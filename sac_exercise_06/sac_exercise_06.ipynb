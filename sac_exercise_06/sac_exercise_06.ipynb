{
 "cells": [
  {
   "cell_type": "markdown",
   "metadata": {},
   "source": [
    "Начальная инициализация"
   ]
  },
  {
   "cell_type": "code",
   "execution_count": null,
   "metadata": {},
   "outputs": [],
   "source": [
    "{starta, startb, startc, startd, startx0, starty0} = {3, 4, 1, 1, 2, 1};\n",
    "{startk, startg, startalp, startv} = {0.01, 9.81, 45, 10};\n",
    "{sliderplotmin, sliderplotmax, sliderplotstep} = {0, 20, 1};\n",
    "{slidermin1, slidermax1, sliderstep1} = {1, 10, 1};\n",
    "{sliderkmin, sliderkmax, sliderkstep} = {0.01, 0.100, 0.01};\n",
    "{slidergmin, slidergmax, slidergstep} = {9.80, 9.90, 0.01};\n",
    "{slideralpmin, slideralpmax, slideralpstep} = {1, 90, 1};\n",
    "{slidervmin, slidervmax, slidervstep} = {1, 100, 1};\n",
    "{startmin, startmax} = {0, 10};\n",
    "{tmin, tmax, step} = {0, 7, 0.1};\n",
    "maxsteps = 3000;"
   ]
  },
  {
   "cell_type": "markdown",
   "metadata": {},
   "source": [
    "# Модель \"Хищник-Жертва\""
   ]
  },
  {
   "cell_type": "markdown",
   "metadata": {},
   "source": [
    "Функция решающая ДУ и возвращающая список точек {x,y}"
   ]
  },
  {
   "cell_type": "code",
   "execution_count": null,
   "metadata": {},
   "outputs": [],
   "source": [
    "getdata1[a_, b_, c_, d_, x0_, y0_, tmin_, tmax_, step_, maxsteps_] := \n",
    "    Module[\n",
    "        {eq1, eq2, sol, dataset, t},\n",
    "        eq1[t_] := x'[t] == x[t] * (a - b * y[t]);\n",
    "        eq2[t_] := y'[t] == y[t] * (-c + d * x[t]);\n",
    "        sol = NDSolve[\n",
    "          {eq1[t], eq2[t], x[1] == x0, y[1] == y0}, \n",
    "          {x, y},\n",
    "          {t, tmin, tmax}, \n",
    "          MaxSteps -> maxsteps];\n",
    "        dataset = Table[\n",
    "              {sol[[1,1,2]][t], sol[[1,2,2]][t]},\n",
    "              {t, tmin, tmax, step}];\n",
    "        dataset\n",
    "    ];"
   ]
  },
  {
   "cell_type": "markdown",
   "metadata": {},
   "source": [
    "Вывод графика для модели хищник-жертва с интерактивным взаимодействием с параметрами a, b, c, d, x0, y0"
   ]
  },
  {
   "cell_type": "code",
   "execution_count": null,
   "metadata": {},
   "outputs": [],
   "source": [
    "Manipulate[\n",
    "    Print[\"a=\", a, \" b=\", b, \" c=\", c, \" d=\", d, \" x0=\", x0, \" y0=\", y0];\n",
    "    ListPlot[getdata1[a, b, c, d, x0, y0, tmin, tmax, step, maxsteps]], \n",
    "    {{a, starta}, slidermin1, slidermax1, sliderstep1}, \n",
    "    {{b, startb}, slidermin1, slidermax1, sliderstep1}, \n",
    "    {{c, startc}, slidermin1, slidermax1, sliderstep1}, \n",
    "    {{d, startd}, slidermin1, slidermax1, sliderstep1}, \n",
    "    {{x0, startx0}, slidermin1, slidermax1, sliderstep1}, \n",
    "    {{y0, starty0}, slidermin1, slidermax1, sliderstep1}\n",
    "]"
   ]
  },
  {
   "cell_type": "markdown",
   "metadata": {},
   "source": [
    "# Падение тела брошенного под углом к горизонту"
   ]
  },
  {
   "cell_type": "markdown",
   "metadata": {},
   "source": [
    "Функция решающая ДУ и возвращающая список точек {x,y}"
   ]
  },
  {
   "cell_type": "code",
   "execution_count": null,
   "metadata": {},
   "outputs": [],
   "source": [
    "getdata2[k_, g_, x0_, y0_, z0_, r0_, tmin_, tmax_, step_, maxsteps_] := \n",
    "    Module[\n",
    "        {eq1, eq2, eq3, eq4, sol, dataset, t},\n",
    "        eq1[t_] := x'[t] == y[t];\n",
    "        eq2[t_] := y'[t] == -k*y[t]*Sqrt[y[t]^2+r[t]^2];\n",
    "        eq3[t_] := z'[t] == r[t];\n",
    "        eq4[t_] := r'[t] == -k*y[t]*Sqrt[y[t]^2+r[t]^2]-g;\n",
    "        sol = NDSolve[\n",
    "          {eq1[t], eq2[t], eq3[t], eq4[t], x[1] == x0, y[1] == y0, z[1] == z0, r[1] == r0}, \n",
    "          {x, y, z, r},\n",
    "          {t, tmin, tmax}, \n",
    "          MaxSteps -> maxsteps];\n",
    "        dataset = Table[\n",
    "              {sol[[1,1,2]][t], sol[[1,3,2]][t]},\n",
    "              {t, tmin, tmax, step}];\n",
    "        dataset\n",
    "    ];"
   ]
  },
  {
   "cell_type": "markdown",
   "metadata": {},
   "source": [
    "Вывод графика для тела брошенного под углом к горизонту с интерактивным взаимодействием с параметрами k, g, alp, v, xmin, xmax, ymin, ymax"
   ]
  },
  {
   "cell_type": "code",
   "execution_count": null,
   "metadata": {},
   "outputs": [],
   "source": [
    "Manipulate[\n",
    "    Print[\"k=\", k, \" g=\", g, \" alpha=\", alp, \" v=\", v, \" plotmin=\", plotmin, \" plotmax=\", plotmax];\n",
    "    ListPlot[getdata2[k, g, 0, v*Cos[alp Degree], 0, v*Sin[alp Degree], tmin, tmax, step, maxsteps], \n",
    "            PlotRange->{{plotmin, plotmax}, {plotmin, plotmax}}], \n",
    "    {{k, startk}, sliderkmin, sliderkmax, sliderkstep}, \n",
    "    {{g, startg}, slidergmin, slidergmax, slidergstep},\n",
    "    {{alp, startalp}, slideralpmin, slideralpmax, slideralpstep},\n",
    "    {{v, startv}, slidervmin, slidervmax, slidervstep}, \n",
    "    {{plotmin, startmin}, sliderplotmin, sliderplotmax, sliderplotstep},\n",
    "    {{plotmax, startmax}, sliderplotmin, sliderplotmax, sliderplotstep}\n",
    "]"
   ]
  },
  {
   "cell_type": "code",
   "execution_count": null,
   "metadata": {},
   "outputs": [],
   "source": []
  }
 ],
 "metadata": {
  "kernelspec": {
   "display_name": "Wolfram Language 12.2",
   "language": "Wolfram Language",
   "name": "wolframlanguage12.2"
  },
  "language_info": {
   "codemirror_mode": "mathematica",
   "file_extension": ".m",
   "mimetype": "application/vnd.wolfram.m",
   "name": "Wolfram Language",
   "pygments_lexer": "mathematica",
   "version": "12.0"
  }
 },
 "nbformat": 4,
 "nbformat_minor": 4
}
