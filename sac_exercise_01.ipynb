{
 "cells": [
  {
   "cell_type": "code",
   "execution_count": 1,
   "metadata": {},
   "outputs": [
    {
     "data": {
      "text/html": [
       "<h1 style='color: green'>Вариант задания</h1>"
      ],
      "text/plain": [
       "<h1 style='color: green'>Вариант задания</h1>"
      ]
     },
     "execution_count": 1,
     "metadata": {},
     "output_type": "execute_result"
    }
   ],
   "source": [
    "html(\"<h1 style='color: green'>Вариант задания</h1>\")"
   ]
  },
  {
   "cell_type": "code",
   "execution_count": 2,
   "metadata": {},
   "outputs": [],
   "source": [
    "tasks = [ \n",
    "            x/sin(3*x**2 - 2*x + 5*ln(x))\n",
    "            , (x**2 - 4)*sin((pi*(x**2))/6) / (x**2 - 1)\n",
    "            , sqrt(abs(3*x^3 + 2*x^2 - 10*x)) / (4*x)\n",
    "            , 1/2 * ln(sqrt(x^2 + 1) / sqrt(x^2 - 1))\n",
    "            , (x^3 - x^2 - x + 1)^(1/3) / tan(x)\n",
    "            , 2*log((x - 1) / x) + 1\n",
    "            , ln(x - 1) / (x - 1)^2\n",
    "        ]"
   ]
  },
  {
   "cell_type": "code",
   "execution_count": 3,
   "metadata": {},
   "outputs": [
    {
     "name": "stdout",
     "output_type": "stream",
     "text": [
      "Номер вашего задания: 6.\n"
     ]
    },
    {
     "data": {
      "text/html": [
       "<html><script type=\"math/tex; mode=display\">\\newcommand{\\Bold}[1]{\\mathbf{#1}}\\verb|Ваша|\\phantom{\\verb!x!}\\verb|функция:| \\frac{\\log\\left(x - 1\\right)}{{\\left(x - 1\\right)}^{2}}</script></html>"
      ],
      "text/latex": [
       "\\begin{math}\n",
       "\\newcommand{\\Bold}[1]{\\mathbf{#1}}\\verb|Ваша|\\phantom{\\verb!x!}\\verb|функция:| \\frac{\\log\\left(x - 1\\right)}{{\\left(x - 1\\right)}^{2}}\n",
       "\\end{math}"
      ],
      "text/plain": [
       "'Ваша функция: ' log(x - 1)/(x - 1)^2"
      ]
     },
     "metadata": {},
     "output_type": "display_data"
    }
   ],
   "source": [
    "def get_variant_for_number(_number, _variations_quo):\n",
    "    return (_number - 1) % _variations_quo\n",
    "\n",
    "\n",
    "your_number = 21\n",
    "number_of_your_task = get_variant_for_number(_number=your_number, _variations_quo=len(tasks))\n",
    "print(f\"Номер вашего задания: {number_of_your_task}.\")\n",
    "show(\"Ваша функция: \", tasks[number_of_your_task])"
   ]
  },
  {
   "cell_type": "code",
   "execution_count": 4,
   "metadata": {},
   "outputs": [
    {
     "data": {
      "text/html": [
       "<h1 style='color: green'>Задание 1 - часть 1 - Квадратик</h1>"
      ],
      "text/plain": [
       "<h1 style='color: green'>Задание 1 - часть 1 - Квадратик</h1>"
      ]
     },
     "execution_count": 4,
     "metadata": {},
     "output_type": "execute_result"
    }
   ],
   "source": [
    "html(\"<h1 style='color: green'>Задание 1 - часть 1 - Квадратик</h1>\")"
   ]
  },
  {
   "cell_type": "code",
   "execution_count": 5,
   "metadata": {},
   "outputs": [],
   "source": [
    "#нужные нам переменные - сторона квадрта, угол поворот, сдвиг по x, сдвиг по y, ширина графика, высота графика, минимально\n",
    "#допустимое значение по x, максимально допустимое значение по x, минимально допустимое значение по y, максимально допустимое \n",
    "#значение по y \n",
    "side = 5\n",
    "alpha = 45\n",
    "x_shift = 5\n",
    "y_shift = 10\n",
    "w = 5\n",
    "h = 3\n",
    "xmin = -15\n",
    "xmax = 15\n",
    "ymin = -15\n",
    "ymax = 15"
   ]
  },
  {
   "cell_type": "code",
   "execution_count": 6,
   "metadata": {},
   "outputs": [],
   "source": [
    "#создаем матрицу 5*2 с парами координат x,y для квадрата со стороной side\n",
    "square = matrix([[0,0], [0,side], [side,side], [side, 0], [0,0]])"
   ]
  },
  {
   "cell_type": "code",
   "execution_count": 7,
   "metadata": {},
   "outputs": [],
   "source": [
    "#вычисляем значение угла alpha в радианах и создаем матрицу поворота M размера 2*2\n",
    "rad_alpha = alpha/180*pi\n",
    "M = matrix([[cos(rad_alpha), -sin(rad_alpha)], [sin(rad_alpha), cos(rad_alpha)]])"
   ]
  },
  {
   "cell_type": "code",
   "execution_count": 8,
   "metadata": {},
   "outputs": [],
   "source": [
    "#создаем вектор точки с координатами сдвига по x и y и создаем матрицу сдвига состоящую из 5 таких векторов размера 1*2\n",
    "point = vector((x_shift, y_shift))\n",
    "shift = matrix([point, point, point, point, point])"
   ]
  },
  {
   "cell_type": "code",
   "execution_count": 9,
   "metadata": {},
   "outputs": [],
   "source": [
    "#умножаем нашу квадрат square: матрица 5*2 на матрицу поворота M 2*2 и получаем матрицу 5*2 координаты повернутого квадрата\n",
    "#и добавляем матрицу сдвига тоже размера 5*2\n",
    "res_square = square*M+shift"
   ]
  },
  {
   "cell_type": "code",
   "execution_count": 10,
   "metadata": {},
   "outputs": [
    {
     "data": {
      "image/png": "[encoded data removed]",
      "text/plain": [
       "Graphics object consisting of 2 graphics primitives"
      ]
     },
     "metadata": {},
     "output_type": "display_data"
    }
   ],
   "source": [
    "#рисуем график состоящий из двух квадратов\n",
    "show(line(square)+line(res_square), xmin=xmin, xmax=xmax, ymin=ymin, ymax=ymax, aspect_ratio=1, figsize=[w,h])"
   ]
  },
  {
   "cell_type": "code",
   "execution_count": 11,
   "metadata": {},
   "outputs": [
    {
     "data": {
      "text/html": [
       "<h1 style='color: green'>Задание 1 - часть 2 - Исследование функции</h1>"
      ],
      "text/plain": [
       "<h1 style='color: green'>Задание 1 - часть 2 - Исследование функции</h1>"
      ]
     },
     "execution_count": 11,
     "metadata": {},
     "output_type": "execute_result"
    }
   ],
   "source": [
    "html(\"<h1 style='color: green'>Задание 1 - часть 2 - Исследование функции</h1>\")"
   ]
  },
  {
   "cell_type": "code",
   "execution_count": 12,
   "metadata": {},
   "outputs": [
    {
     "data": {
      "text/html": [
       "<h2 style='color: blue'>Функция, ее график, область определения.</h2>"
      ],
      "text/plain": [
       "<h2 style='color: blue'>Функция, ее график, область определения.</h2>"
      ]
     },
     "execution_count": 12,
     "metadata": {},
     "output_type": "execute_result"
    }
   ],
   "source": [
    "html(\"<h2 style='color: blue'>Функция, ее график, область определения.</h2>\")"
   ]
  },
  {
   "cell_type": "code",
   "execution_count": 13,
   "metadata": {},
   "outputs": [],
   "source": [
    "#необходимые переменные ширина графика, высота графика, минимально допустимое значение по x, максимально допустимое значение\n",
    "#по x, минимально допустимое значение по y, максимально допустимое значение по y \n",
    "w = 5\n",
    "h = 3\n",
    "xmin = -10\n",
    "xmax = 10\n",
    "ymin = -7\n",
    "ymax = 7"
   ]
  },
  {
   "cell_type": "code",
   "execution_count": 14,
   "metadata": {},
   "outputs": [],
   "source": [
    "#задаем нашу функцию f(x)\n",
    "f = ln(x - 1) / (x - 1)**2"
   ]
  },
  {
   "cell_type": "code",
   "execution_count": 15,
   "metadata": {},
   "outputs": [
    {
     "data": {
      "text/html": [
       "<html><script type=\"math/tex; mode=display\">\\newcommand{\\Bold}[1]{\\mathbf{#1}}\\frac{\\log\\left(x - 1\\right)}{{\\left(x - 1\\right)}^{2}}</script></html>"
      ],
      "text/latex": [
       "\\begin{math}\n",
       "\\newcommand{\\Bold}[1]{\\mathbf{#1}}\\frac{\\log\\left(x - 1\\right)}{{\\left(x - 1\\right)}^{2}}\n",
       "\\end{math}"
      ],
      "text/plain": [
       "log(x - 1)/(x - 1)^2"
      ]
     },
     "metadata": {},
     "output_type": "display_data"
    }
   ],
   "source": [
    "#так выглядит наша функция\n",
    "show(f)"
   ]
  },
  {
   "cell_type": "markdown",
   "metadata": {},
   "source": [
    "**Область определения.**\n",
    "\n",
    "$D : x>1$"
   ]
  },
  {
   "cell_type": "code",
   "execution_count": 16,
   "metadata": {},
   "outputs": [],
   "source": [
    "#Минимальное и максимальное из [xmin, xmax] которые принадлежат D\n",
    "xmind = 1+1e-8\n",
    "xmaxd = xmax"
   ]
  },
  {
   "cell_type": "code",
   "execution_count": 17,
   "metadata": {},
   "outputs": [
    {
     "data": {
      "image/png": "[encoded data removed]",
      "text/plain": [
       "Graphics object consisting of 1 graphics primitive"
      ]
     },
     "metadata": {},
     "output_type": "display_data"
    }
   ],
   "source": [
    "#график функции\n",
    "#для g используем xmind и xmaxd, чтобы использовать значения только из D для данной функции\n",
    "g = plot(f, (x, xmind, xmaxd))\n",
    "show(g, xmin=xmin, xmax=xmax, ymin=ymin, ymax=ymax, aspect_ratio=1, figsize=[w,h])"
   ]
  },
  {
   "cell_type": "code",
   "execution_count": 18,
   "metadata": {},
   "outputs": [
    {
     "data": {
      "text/html": [
       "<h2 style='color: blue'>Является ли функция четной или нечетной, является ли периодической.</h2>"
      ],
      "text/plain": [
       "<h2 style='color: blue'>Является ли функция четной или нечетной, является ли периодической.</h2>"
      ]
     },
     "execution_count": 18,
     "metadata": {},
     "output_type": "execute_result"
    }
   ],
   "source": [
    "html(\"<h2 style='color: blue'>Является ли функция четной или нечетной, является ли периодической.</h2>\")"
   ]
  },
  {
   "cell_type": "code",
   "execution_count": 19,
   "metadata": {},
   "outputs": [
    {
     "name": "stdout",
     "output_type": "stream",
     "text": [
      "Функция f нечетная.\n"
     ]
    }
   ],
   "source": [
    "#четность функции можно посмотреть по графику, если симметрично относительно оси Oy, то четная\n",
    "#также можно автоматически это проверить следующим способом\n",
    "if (f(x)-f(-x)).expand().simplify_full() != 0:\n",
    "    print(\"Функция f нечетная.\")\n",
    "else:\n",
    "    print(\"Функция f четная.\")"
   ]
  },
  {
   "cell_type": "code",
   "execution_count": 20,
   "metadata": {},
   "outputs": [],
   "source": [
    "var(\"T\")\n",
    "eq = f(x) - f(x + T)"
   ]
  },
  {
   "cell_type": "code",
   "execution_count": 21,
   "metadata": {},
   "outputs": [
    {
     "data": {
      "text/plain": [
       "[T == -(x*log(x - 1) + sqrt(log(T + x - 1)*log(x - 1))*(x - 1) - log(x - 1))/log(x - 1), T == -(x*log(x - 1) - sqrt(log(T + x - 1)*log(x - 1))*(x - 1) - log(x - 1))/log(x - 1)]"
      ]
     },
     "execution_count": 21,
     "metadata": {},
     "output_type": "execute_result"
    }
   ],
   "source": [
    "#тк получили T = function(T, x) -> мы не можем найти T -> посмотрим на график\n",
    "solve(eq, T)"
   ]
  },
  {
   "cell_type": "markdown",
   "metadata": {},
   "source": [
    "**Из графика видно что функция не является периодической.**"
   ]
  },
  {
   "cell_type": "code",
   "execution_count": 22,
   "metadata": {},
   "outputs": [
    {
     "data": {
      "image/png": "[encoded data removed]",
      "text/plain": [
       "Graphics object consisting of 1 graphics primitive"
      ]
     },
     "metadata": {},
     "output_type": "display_data"
    }
   ],
   "source": [
    "g = plot(f, (x, xmind, xmaxd))\n",
    "show(g, xmin=xmin, xmax=xmax, ymin=ymin, ymax=ymax, aspect_ratio=1, figsize=[w,h])"
   ]
  },
  {
   "cell_type": "code",
   "execution_count": 23,
   "metadata": {},
   "outputs": [
    {
     "data": {
      "text/html": [
       "<h2 style='color: blue'>Промежутки знакопостоянства.</h2>"
      ],
      "text/plain": [
       "<h2 style='color: blue'>Промежутки знакопостоянства.</h2>"
      ]
     },
     "execution_count": 23,
     "metadata": {},
     "output_type": "execute_result"
    }
   ],
   "source": [
    "html(\"<h2 style='color: blue'>Промежутки знакопостоянства.</h2>\")"
   ]
  },
  {
   "cell_type": "code",
   "execution_count": 24,
   "metadata": {},
   "outputs": [
    {
     "data": {
      "text/plain": [
       "[x == 2]"
      ]
     },
     "execution_count": 24,
     "metadata": {},
     "output_type": "execute_result"
    }
   ],
   "source": [
    "#находим при каком x значение функции равно нулю\n",
    "solve([f(x) == 0], x)"
   ]
  },
  {
   "cell_type": "code",
   "execution_count": 25,
   "metadata": {},
   "outputs": [
    {
     "name": "stdout",
     "output_type": "stream",
     "text": [
      "-2.77258872223978\n",
      "0.180206714714740\n"
     ]
    }
   ],
   "source": [
    "#смотрим на график и на значение функции слева и справа\n",
    "print(f(1.5))\n",
    "print(f(2.5))"
   ]
  },
  {
   "cell_type": "code",
   "execution_count": 26,
   "metadata": {},
   "outputs": [],
   "source": [
    "#получаем x точки перегиба \n",
    "x_point = solve([f(x) == 0], x, solution_dict=True)"
   ]
  },
  {
   "cell_type": "code",
   "execution_count": 27,
   "metadata": {},
   "outputs": [
    {
     "data": {
      "image/png": "[encoded data removed]",
      "text/plain": [
       "Graphics object consisting of 8 graphics primitives"
      ]
     },
     "metadata": {},
     "output_type": "display_data"
    }
   ],
   "source": [
    "#выводим график\n",
    "y_margin = 0.2\n",
    "points_y_margin = -0.1\n",
    "point_radius = 0.08\n",
    "fontsize = 14\n",
    "y_figsize = 0.5\n",
    "intervals_of_constancy = plot(points_y_margin, xmin=xmind+point_radius, xmax=xmaxd, ymin=-y_figsize, ymax=y_figsize)\n",
    "intervals_of_constancy += disk((x_point[0][x], points_y_margin), point_radius, (0, 2*pi), color='black')\n",
    "intervals_of_constancy  += circle((xmind, points_y_margin), radius=point_radius)\n",
    "intervals_of_constancy  += text(\"$\"+f\"{floor(xmind)}\"+\"$\", (xmind, y_margin), color=\"black\", fontsize=fontsize)\n",
    "intervals_of_constancy  += text(\"$∞$\", (xmaxd, y_margin), color=\"black\", fontsize=fontsize)\n",
    "intervals_of_constancy  += text(\"$\"+f\"{x_point[0][x]}\"+\"$\", (x_point[0][x], y_margin), color=\"black\", fontsize=fontsize)\n",
    "intervals_of_constancy  += text(\"+\", ((x_point[0][x]+xmaxd)/2, y_margin), color=\"black\", fontsize=fontsize)\n",
    "intervals_of_constancy  += text(\"-\", ((x_point[0][x]+xmind)/2, y_margin), color=\"black\", fontsize=fontsize)\n",
    "intervals_of_constancy.show(axes=False)"
   ]
  },
  {
   "cell_type": "code",
   "execution_count": 28,
   "metadata": {},
   "outputs": [
    {
     "data": {
      "text/html": [
       "<h2 style='color: blue'>Точки пересечения графика с осями координат.</h2>"
      ],
      "text/plain": [
       "<h2 style='color: blue'>Точки пересечения графика с осями координат.</h2>"
      ]
     },
     "execution_count": 28,
     "metadata": {},
     "output_type": "execute_result"
    }
   ],
   "source": [
    "html(\"<h2 style='color: blue'>Точки пересечения графика с осями координат.</h2>\")"
   ]
  },
  {
   "cell_type": "markdown",
   "metadata": {},
   "source": [
    "**Посмотрев на график и на область определения D, можно понять что с осью Oy пересечений нет, а с Ox мы нашли на пред. шаге, когда определяли промежутки знакопостоянства. Итого мы имеем единственную точку X(2,0).**"
   ]
  },
  {
   "cell_type": "code",
   "execution_count": 29,
   "metadata": {},
   "outputs": [
    {
     "data": {
      "text/html": [
       "<h2 style='color: blue'>Точки экстремума и значения в этих точках.</h2>"
      ],
      "text/plain": [
       "<h2 style='color: blue'>Точки экстремума и значения в этих точках.</h2>"
      ]
     },
     "execution_count": 29,
     "metadata": {},
     "output_type": "execute_result"
    }
   ],
   "source": [
    "html(\"<h2 style='color: blue'>Точки экстремума и значения в этих точках.</h2>\")"
   ]
  },
  {
   "cell_type": "code",
   "execution_count": 30,
   "metadata": {},
   "outputs": [],
   "source": [
    "#находим точки, где производная равна 0, в данном случае она только одна\n",
    "shift = 0.0001\n",
    "number_of_derivative = 1\n",
    "x_point = solve([diff(f, x, number_of_derivative) == 0], x, solution_dict=True)[0][x]"
   ]
  },
  {
   "cell_type": "code",
   "execution_count": 31,
   "metadata": {},
   "outputs": [
    {
     "data": {
      "text/html": [
       "<html><script type=\"math/tex; mode=display\">\\newcommand{\\Bold}[1]{\\mathbf{#1}}-\\frac{2 \\, \\log\\left(x - 1\\right)}{{\\left(x - 1\\right)}^{3}} + \\frac{1}{{\\left(x - 1\\right)}^{3}}</script></html>"
      ],
      "text/latex": [
       "\\begin{math}\n",
       "\\newcommand{\\Bold}[1]{\\mathbf{#1}}-\\frac{2 \\, \\log\\left(x - 1\\right)}{{\\left(x - 1\\right)}^{3}} + \\frac{1}{{\\left(x - 1\\right)}^{3}}\n",
       "\\end{math}"
      ],
      "text/plain": [
       "-2*log(x - 1)/(x - 1)^3 + 1/(x - 1)^3"
      ]
     },
     "metadata": {},
     "output_type": "display_data"
    }
   ],
   "source": [
    "#формула производной\n",
    "show(diff(f, x, number_of_derivative))"
   ]
  },
  {
   "cell_type": "code",
   "execution_count": 32,
   "metadata": {},
   "outputs": [
    {
     "data": {
      "image/png": "[encoded data removed]",
      "text/plain": [
       "Graphics object consisting of 1 graphics primitive"
      ]
     },
     "metadata": {},
     "output_type": "display_data"
    }
   ],
   "source": [
    "#нарисуем график производной\n",
    "g = plot(diff(f, x, number_of_derivative), (x, xmind, xmaxd))\n",
    "show(g, xmin=xmin, xmax=xmax, ymin=ymin, ymax=ymax, aspect_ratio=1, figsize=[w,h])"
   ]
  },
  {
   "cell_type": "code",
   "execution_count": 33,
   "metadata": {},
   "outputs": [
    {
     "name": "stdout",
     "output_type": "stream",
     "text": [
      "0.0\n",
      "2.7072803377298227e-05\n",
      "-2.7061311477338812e-05\n"
     ]
    }
   ],
   "source": [
    "#необходимо проверить что производная поменяла знак, тогда это действительно будет точкой экстремума, иначе при функции например\n",
    "#x^3 производная будет равна нулю но знак не поменяет -> это не точка экстремума, а точка перегиба, как видим производная\n",
    "#действительно поменяла знак -> x_point точка экстремума, причем тк слева от x_point производная > 0, а справа < 0 - x_point\n",
    "#точка максимума\n",
    "g(t) = diff(f(t), t, number_of_derivative)\n",
    "print(float(g(t=x_point)))\n",
    "print(float(g(t=x_point-shift)))\n",
    "print(float(g(t=x_point+shift)))"
   ]
  },
  {
   "cell_type": "code",
   "execution_count": 34,
   "metadata": {},
   "outputs": [],
   "source": [
    "#найдем значение в полученной точке x_point\n",
    "y_point = f(x_point)"
   ]
  },
  {
   "cell_type": "code",
   "execution_count": 35,
   "metadata": {},
   "outputs": [
    {
     "name": "stdout",
     "output_type": "stream",
     "text": [
      "Точка максимума: x = e^(1/2) + 1, y = 1/2*e^(-1))\n"
     ]
    }
   ],
   "source": [
    "#полученный результат\n",
    "print(f\"Точка максимума: x = {x_point}, y = {y_point})\")"
   ]
  },
  {
   "cell_type": "code",
   "execution_count": 36,
   "metadata": {},
   "outputs": [
    {
     "data": {
      "text/html": [
       "<h2 style='color: blue'>Промежутки возрастания и убывания.</h2>"
      ],
      "text/plain": [
       "<h2 style='color: blue'>Промежутки возрастания и убывания.</h2>"
      ]
     },
     "execution_count": 36,
     "metadata": {},
     "output_type": "execute_result"
    }
   ],
   "source": [
    "html(\"<h2 style='color: blue'>Промежутки возрастания и убывания.</h2>\")"
   ]
  },
  {
   "cell_type": "code",
   "execution_count": 37,
   "metadata": {},
   "outputs": [
    {
     "name": "stdout",
     "output_type": "stream",
     "text": [
      "0.0\n",
      "2.7072803377298227e-05\n",
      "-2.7061311477338812e-05\n"
     ]
    }
   ],
   "source": [
    "#т.к. у нас всего одна точка, где производная = 0, будет всего два промежутка, один на котором функция возрастает, где\n",
    "#производная > 0 и второй на котором функция убывает, где производная < 0, нужно еще помнить про область определения\n",
    "print(float(g(t=x_point)))\n",
    "print(float(g(t=x_point-shift)))\n",
    "print(float(g(t=x_point+shift)))"
   ]
  },
  {
   "cell_type": "code",
   "execution_count": 38,
   "metadata": {},
   "outputs": [
    {
     "data": {
      "image/png": "[encoded data removed]",
      "text/plain": [
       "Graphics object consisting of 8 graphics primitives"
      ]
     },
     "metadata": {},
     "output_type": "display_data"
    }
   ],
   "source": [
    "#выводим график\n",
    "y_margin = 0.7\n",
    "points_y_margin = 0.3\n",
    "description_y_margin = -0.2\n",
    "point_radius = 0.08\n",
    "fontsize = 14\n",
    "x_desc_inc = (float(x_point)+xmind)/2.0\n",
    "x_desc_dec = (float(x_point)+xmaxd)/2.0\n",
    "y_figsize = 1.0\n",
    "increase_decrease_intervals = plot(points_y_margin, xmin=xmind+point_radius, xmax=xmaxd, ymin=-y_figsize, ymax=y_figsize)\n",
    "increase_decrease_intervals += disk((float(x_point), points_y_margin), point_radius, (0, 2*pi), color='black')\n",
    "increase_decrease_intervals  += circle((xmind, points_y_margin), radius=point_radius)\n",
    "increase_decrease_intervals  += text(\"$\"+f\"{floor(xmind)}\"+\"$\", (xmind, y_margin), color=\"black\", fontsize=fontsize)\n",
    "increase_decrease_intervals  += text(\"$∞$\", (xmaxd, y_margin), color=\"black\", fontsize=fontsize)\n",
    "increase_decrease_intervals  += text(f\"{x_point}\", (float(x_point), y_margin), color=\"black\", fontsize=fontsize)\n",
    "increase_decrease_intervals  += text(\"increase\", (x_desc_inc, description_y_margin), color=\"black\", fontsize=fontsize)\n",
    "increase_decrease_intervals  += text(\"decrease\", (x_desc_dec, description_y_margin), color=\"black\", fontsize=fontsize)\n",
    "increase_decrease_intervals.show(axes=False)"
   ]
  },
  {
   "cell_type": "code",
   "execution_count": 39,
   "metadata": {},
   "outputs": [
    {
     "data": {
      "text/html": [
       "<h2 style='color: blue'>Непрерывность. Наличие точек разрыва и их классификация.</h2>"
      ],
      "text/plain": [
       "<h2 style='color: blue'>Непрерывность. Наличие точек разрыва и их классификация.</h2>"
      ]
     },
     "execution_count": 39,
     "metadata": {},
     "output_type": "execute_result"
    }
   ],
   "source": [
    "html(\"<h2 style='color: blue'>Непрерывность. Наличие точек разрыва и их классификация.</h2>\")"
   ]
  },
  {
   "cell_type": "code",
   "execution_count": 40,
   "metadata": {},
   "outputs": [
    {
     "data": {
      "text/html": [
       "<html><script type=\"math/tex; mode=display\">\\newcommand{\\Bold}[1]{\\mathbf{#1}}\\frac{\\log\\left(x - 1\\right)}{{\\left(x - 1\\right)}^{2}}</script></html>"
      ],
      "text/latex": [
       "\\begin{math}\n",
       "\\newcommand{\\Bold}[1]{\\mathbf{#1}}\\frac{\\log\\left(x - 1\\right)}{{\\left(x - 1\\right)}^{2}}\n",
       "\\end{math}"
      ],
      "text/plain": [
       "log(x - 1)/(x - 1)^2"
      ]
     },
     "metadata": {},
     "output_type": "display_data"
    }
   ],
   "source": [
    "#наша функция\n",
    "show(f)"
   ]
  },
  {
   "cell_type": "code",
   "execution_count": 41,
   "metadata": {},
   "outputs": [
    {
     "data": {
      "image/png": "[encoded data removed]",
      "text/plain": [
       "Graphics object consisting of 1 graphics primitive"
      ]
     },
     "metadata": {},
     "output_type": "display_data"
    }
   ],
   "source": [
    "#нарисуем график функции\n",
    "g = plot(f, (x, xmind, xmaxd))\n",
    "show(g, xmin=xmin, xmax=xmax, ymin=ymin, ymax=ymax, aspect_ratio=1, figsize=[w,h])"
   ]
  },
  {
   "cell_type": "markdown",
   "metadata": {},
   "source": [
    "**При x < 1 предел функции стремящийся к этому значению равен комплексному числу, при x=1 этот предел равен бесконечности\n",
    "следовательно x=1 точка разрыва второго рода, т.к. левосторонний предел равен -inf(правостороний тоже равен -inf, но достаточно\n",
    "одного), во всех точках из D функция непрерывна.**"
   ]
  },
  {
   "cell_type": "code",
   "execution_count": 42,
   "metadata": {},
   "outputs": [
    {
     "data": {
      "text/html": [
       "<h2 style='color: blue'>Асимптоты.</h2>"
      ],
      "text/plain": [
       "<h2 style='color: blue'>Асимптоты.</h2>"
      ]
     },
     "execution_count": 42,
     "metadata": {},
     "output_type": "execute_result"
    }
   ],
   "source": [
    "html(\"<h2 style='color: blue'>Асимптоты.</h2>\")"
   ]
  },
  {
   "cell_type": "code",
   "execution_count": 43,
   "metadata": {},
   "outputs": [
    {
     "name": "stdout",
     "output_type": "stream",
     "text": [
      "k1=0, k2=0\n",
      "b1=0, b2=0\n"
     ]
    }
   ],
   "source": [
    "#находим наклонные асимптоты, т.к. найденные b1=b2=0 и k1=k2=0, то это получается одна горизонтальная асимптота y=0\n",
    "k1 = limit(f(x)/x, x=+Infinity)\n",
    "k2 = limit(f(x)/x, x=-Infinity)\n",
    "b1 = limit(f(x)-k1*x, x=+Infinity)\n",
    "b2 = limit(f(x)-k2*x, x=Infinity)\n",
    "print(f\"k1={k1}, k2={k2}\")\n",
    "print(f\"b1={b1}, b2={b2}\")\n",
    "h_asymptote = 0"
   ]
  },
  {
   "cell_type": "code",
   "execution_count": 44,
   "metadata": {},
   "outputs": [
    {
     "data": {
      "text/plain": [
       "Infinity"
      ]
     },
     "execution_count": 44,
     "metadata": {},
     "output_type": "execute_result"
    }
   ],
   "source": [
    "#теперь необходимо проанализировать точку разрыва x=1, как мы выяснили ранее левосторонний предел равен -inf(или \n",
    "#правосторонний, достаточно одного) -> x=1 является вертикальной асимптотой\n",
    "v_asymptote = 1\n",
    "limit(f(x), x=v_asymptote)"
   ]
  },
  {
   "cell_type": "code",
   "execution_count": 45,
   "metadata": {},
   "outputs": [
    {
     "data": {
      "image/png": "[encoded data removed]",
      "text/plain": [
       "Graphics object consisting of 2 graphics primitives"
      ]
     },
     "metadata": {},
     "output_type": "display_data"
    }
   ],
   "source": [
    "#построим график асимптот\n",
    "xmin = -3\n",
    "xmax = 3\n",
    "ymin = -3\n",
    "ymax = 3\n",
    "h_asymptote = line([(xmin, h_asymptote), (xmax, h_asymptote)], thickness=2.0)\n",
    "v_asymptote = line([(v_asymptote, ymin), (v_asymptote, ymax)], thickness=2.0)\n",
    "show(h_asymptote+v_asymptote, xmin=xmin, xmax=xmax, ymin=ymin, ymax=ymax, aspect_ratio=1, figsize=[w,h])"
   ]
  }
 ],
 "metadata": {
  "kernelspec": {
   "display_name": "SageMath 9.2",
   "language": "sage",
   "name": "sagemath"
  },
  "language_info": {
   "codemirror_mode": {
    "name": "ipython",
    "version": 3
   },
   "file_extension": ".py",
   "mimetype": "text/x-python",
   "name": "python",
   "nbconvert_exporter": "python",
   "pygments_lexer": "ipython3",
   "version": "3.7.7"
  }
 },
 "nbformat": 4,
 "nbformat_minor": 4
}
