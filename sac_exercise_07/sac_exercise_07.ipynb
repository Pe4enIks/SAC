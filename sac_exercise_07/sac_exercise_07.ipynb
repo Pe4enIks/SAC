{
 "cells": [
  {
   "cell_type": "markdown",
   "metadata": {},
   "source": [
    "# Приведение к каноническому виду"
   ]
  },
  {
   "cell_type": "markdown",
   "metadata": {},
   "source": [
    "Границы отрисовки графика"
   ]
  },
  {
   "cell_type": "code",
   "execution_count": 1,
   "metadata": {},
   "outputs": [],
   "source": [
    "xmin = -10;\n",
    "xmax = 10;\n",
    "ymin = -10;\n",
    "ymax = 10;\n",
    "zmin = -10;\n",
    "zmax = 10;"
   ]
  },
  {
   "cell_type": "markdown",
   "metadata": {},
   "source": [
    "Задаем функцию"
   ]
  },
  {
   "cell_type": "code",
   "execution_count": 7,
   "metadata": {},
   "outputs": [],
   "source": [
    "f[x_, y_, z_] = 7*x^2 + 3*y^2 + 3*z^2 +  8*x*y + 8*x*z + 6*y*z + 6*x + y + 7;"
   ]
  },
  {
   "cell_type": "markdown",
   "metadata": {},
   "source": [
    "Строим график"
   ]
  },
  {
   "cell_type": "code",
   "execution_count": 8,
   "metadata": {},
   "outputs": [
    {
     "data": {
      "text/html": [
       "<div><img alt=\"Output\" src=\"data:image/png;base64,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\"></div>"
      ],
      "text/plain": [
       "-Graphics3D-"
      ]
     },
     "execution_count": 8,
     "metadata": {
      "text/html": [],
      "text/plain": []
     },
     "output_type": "execute_result"
    }
   ],
   "source": [
    "ContourPlot3D[f[x,y,z] == 0, {x, xmin, xmax}, {y, ymin, ymax}, {z, zmin, zmax}]"
   ]
  },
  {
   "cell_type": "markdown",
   "metadata": {},
   "source": [
    "Задаем матрицу квадратичной формы и столбец коэффициентов линейной формы, а также сохраняем свободный член"
   ]
  },
  {
   "cell_type": "code",
   "execution_count": 9,
   "metadata": {},
   "outputs": [],
   "source": [
    "matrix = {{7, 4, 4}, {4, 3, 3}, {4, 3, 3}};\n",
    "a = {3, 0.5, 0};\n",
    "a0 = 7;"
   ]
  },
  {
   "cell_type": "markdown",
   "metadata": {},
   "source": [
    "Матрица в матричном виде"
   ]
  },
  {
   "cell_type": "code",
   "execution_count": 12,
   "metadata": {},
   "outputs": [
    {
     "data": {
      "text/html": [
       "<div><img alt=\"Output\" src=\"data:image/png;base64,iVBORw0KGgoAAAANSUhEUgAAAD0AAAAwCAIAAAAtnuVgAAAAznpUWHRSYXcgcHJvZmlsZSB0eXBlIGV4aWYAAHjabY9hDsMgCIX/e4odQQEfehzb2mQ32PEHard02Uvk4Seghv56nuHhohSDZC2oQDRJlUrNkhKnpqdYRxziY52lOw988WYofw/QF9/uXDGdys+gSOsmv8FyltWwBjFNntrcb6ueWin3QdeTlqR8nv5/z0rISCoWhaIqquUlWGqGTDErTuyAFSYcFGU371C1NqhXcPNGF3W9V/cANnD4F9hX4mYuFomJnNAgkyfaLPLI/TtvVHZaqczP7ZkAAAAJcEhZcwAACxMAAAsTAQCanBgAAAA8dEVYdFNvZnR3YXJlAENyZWF0ZWQgd2l0aCB0aGUgV29sZnJhbSBMYW5ndWFnZSA6IHd3dy53b2xmcmFtLmNvbVyipoUAAAAhdEVYdENyZWF0aW9uIFRpbWUAMjAyMTowNDoyMiAyMjowMTowMU1W+dkAAAK/SURBVGiB7Zo/b9pAGMaPqhLezIZHBqhOKAMz+QTQpVPWMpmRLNkisfABzITixeqElMWZYPRExQZDVMs1EmIyo5kw03WgSnxnc34PEZskPJsvzx2/+4N533uTI4Sgd6gvWQMcKQD3uJ2j1R6Dhl70r+FmUT+Au/FAXjVSUb1aAQw8blcer9Q6COIYP4mo2+1GG/dytTpSR4f+ykxPc8F2rn8wGEQ7sNymac5mM+7oUAr4NPl+27Y9z2Ma2XMyn89rtVrsziz6PV2975STd7yJRpNkH9SPMZ5Op2xreBKe58VuCiH7tYAstqtFzyivH8hvmuZ2uw23UNyGYSyXy9jhRyoCHlWGSaTTQb9t24ZhhFuoc+I4TqlUitmqRb+n17W7BmTb30IYY8dxwi1fQf3KnQnpiH9cuTMR+jHm+YMgCD9S671er8XAUpQsy+FHiluSpHRhBLTb7cKPFHexWEwXRkDMWaC4N5tNujDHi+L2fT8rDlF94Dj2LPUJuOFxfSjTuO4vTu9HAtwicf1LpuFq6PZnMomoH4G5x+3ms/brrgpzU7r6Bo5oBfwg7j01PKJ+2fnK4437AInGRP2wvFgsD0Dodefv/1RA3whRfzL3ot/Tkd7cL8ftb6Q34V8ehBo/VPT8F+oW8CdylzuTSFwPX/zxk16/+Q7fKrD/Ld7foddar+omT1LUjxCi88tWqwVPqlIWw/YJfi/PShfudHXhTlcfgltRlKw4REVx5/N5jjXbvIG526G4V6sVZ+xs8wbmbofiLhQKB6mzzhuYux3QPds55A28cyLLMnPt+Z8667zB933mXpOKBy3LsiyLjsNE6weMoCUhvt+yLKbqxNalOMU08frBqbAJU2wg0ThWkqSYoyKmE+cNQRBgjNlOzDx4pamMNBwOmaIUia63oigxk8tUGOPoiy5HLv8Pkab+AW+xVCeiSsktAAAAAElFTkSuQmCC\"></div>"
      ],
      "text/plain": [
       "7   4   4\n",
       "\n",
       "4   3   3\n",
       "\n",
       "4   3   3"
      ]
     },
     "execution_count": 12,
     "metadata": {
      "text/html": [],
      "text/plain": []
     },
     "output_type": "execute_result"
    }
   ],
   "source": [
    "matrix // MatrixForm "
   ]
  },
  {
   "cell_type": "markdown",
   "metadata": {},
   "source": [
    "Столбец коэффициентов в матричном виде"
   ]
  },
  {
   "cell_type": "code",
   "execution_count": 13,
   "metadata": {},
   "outputs": [
    {
     "data": {
      "text/html": [
       "<div><img alt=\"Output\" src=\"data:image/png;base64,iVBORw0KGgoAAAANSUhEUgAAACsAAAAwCAIAAAAHLhTPAAAAznpUWHRSYXcgcHJvZmlsZSB0eXBlIGV4aWYAAHjabY9hDsMgCIX/e4odQQEfehzb2mQ32PEHard02UuE5yeghv56nuHhohSDZC2oQDRJlUrNTIlTM6dYRxyibZ2lOw988WYofw/QF9/uXLEGlp9BkaZhv8E8y2pYg5gmT23ut1VPrZT7oOtJS1I+T/+/ZyVkJBWLQlEV1XwJZi0hU8yKEztghQkHRdktd6haG9QruHmji7req3sAGzj8C+wrcbMsFomJnNAgkyfaLPLw/p03UApapm6yn8EAAAAJcEhZcwAACxMAAAsTAQCanBgAAAA8dEVYdFNvZnR3YXJlAENyZWF0ZWQgd2l0aCB0aGUgV29sZnJhbSBMYW5ndWFnZSA6IHd3dy53b2xmcmFtLmNvbVyipoUAAAAhdEVYdENyZWF0aW9uIFRpbWUAMjAyMTowNDoyMiAyMjowMTowMU1W+dkAAAKHSURBVFiF7Zghj+JAFMdnLpdQVxyVCCDNhk9QPkFZg6pGtRLMaRDr1nQVFFNJgumao7IKLKYJKSUhqCKLoqhZwe3Rzi70TSGQy/GXk3kzv3nvtfPmYUIIuqt+3Hf7iwhsDX+q9ra8AIFcLF+XkKT7Wc2/8UG322U+R7VSAszq9/vpPrAsazabwejH6mEJsAPm83kQBNQgTdDpdGCrUSTqGDbXsixqJBGFzWYjCAJzCOSGitwFOBmjKDoZBdM0V6tVFh+wBMI0zZM+8DyvWCzCThL7GF+e/EkLkokIIVEUPc+Lj/yEGX6VbBBiZLKkokDnQVYgBvE8f5KA47gbEOz3+5MEhULhBgSUpxME2+32BgSUEgRhGN6Z4C56EEAJlm81UDFynIcxxpp9LQJbK7erh7vPV0bllIWPt6QhX4nAfh9I+i8ZIYSWv0dTNHgHnQ2qdILlwj2UQLaGyyNFT7uJB3W24hGaibaG62hMJq3KuVml1uRPBHwdtdPiBSUoVapoUH958okhxzySZvWsSLCyBeADuaEiSXkuIYSQ/dqeqo2/GWZrp1Lefm1PP40uJkCy4SujMsYY47qr+8cUXy7c5Mzj11h3dWjZEi+Yms0mc4nGLmqXf+Wf+CB4EPxnBFkejdclyOVyDKbQsoUW9SpJEKzXa/A6bGVLXNSrJEGQz+fBANnLFupVkvHVxlq2nNklQcDzPN1eOCtY2ZJQGIbUyzVxNzqO4zgO6IIbq+jYQPJ1CdrGcRyH6lNl7iPFGicsfSSqgUIIoTsYHMdFUQRICNnwF7UybqODLyaQyjyKIlEU6VGKKAiCXq8HOw+zhsPhbrejBum/siAI32BeSaIofvUuJo/e+gcTGKVMVDnDhgAAAABJRU5ErkJggg==\"></div>"
      ],
      "text/plain": [
       "3\n",
       "\n",
       "0.5\n",
       "\n",
       "0"
      ]
     },
     "execution_count": 13,
     "metadata": {
      "text/html": [],
      "text/plain": []
     },
     "output_type": "execute_result"
    }
   ],
   "source": [
    "a // MatrixForm"
   ]
  },
  {
   "cell_type": "markdown",
   "metadata": {},
   "source": [
    "Получение собственных значений, как видно собственные значения полученные через матричные операции равны собственным значениям\n",
    "полученный при помощи стандартной функции Eigenvalues"
   ]
  },
  {
   "cell_type": "code",
   "execution_count": 14,
   "metadata": {},
   "outputs": [
    {
     "data": {
      "text/html": [
       "<style>\n",
       "\t\t\t\t\t\t\t\t\t\t\t\t\t.grid-container {\n",
       "\t\t\t\t\t\t\t\t\t\t\t\t\t\tdisplay: inline-grid;\n",
       "\t\t\t\t\t\t\t\t\t\t\t\t\t\tgrid-template-columns: auto;\n",
       "\t\t\t\t\t\t\t\t\t\t\t\t\t}\n",
       "\t\t\t\t\t\t\t\t\t\t\t\t</style>\n",
       "\n",
       "\t\t\t\t\t\t\t\t\t\t\t\t<div><div class=\"grid-container\"><div class=\"grid-item\"><pre style=\"&#102;&#111;&#110;&#116;&#45;&#102;&#97;&#109;&#105;&#108;&#121;&#58;&#32;&#34;&#67;&#111;&#117;&#114;&#105;&#101;&#114;&#32;&#78;&#101;&#119;&#34;&#44;&#67;&#111;&#117;&#114;&#105;&#101;&#114;&#44;&#109;&#111;&#110;&#111;&#115;&#112;&#97;&#99;&#101;&#59;\">&#123;&#48;&#46;&#44;&#32;&#48;&#46;&#56;&#50;&#49;&#48;&#57;&#50;&#44;&#32;&#49;&#50;&#46;&#49;&#55;&#56;&#57;&#125;</pre></div><div class=\"grid-item\"><pre style=\"&#102;&#111;&#110;&#116;&#45;&#102;&#97;&#109;&#105;&#108;&#121;&#58;&#32;&#34;&#67;&#111;&#117;&#114;&#105;&#101;&#114;&#32;&#78;&#101;&#119;&#34;&#44;&#67;&#111;&#117;&#114;&#105;&#101;&#114;&#44;&#109;&#111;&#110;&#111;&#115;&#112;&#97;&#99;&#101;&#59;\">&#123;&#49;&#50;&#46;&#49;&#55;&#56;&#57;&#44;&#32;&#48;&#46;&#56;&#50;&#49;&#48;&#57;&#50;&#44;&#32;&#48;&#46;&#125;</pre></div></div></div>"
      ],
      "text/plain": [
       "{0., 0.821092, 12.1789}\n",
       "{12.1789, 0.821092, 0.}"
      ]
     },
     "execution_count": 14,
     "metadata": {
      "text/html": [],
      "text/plain": []
     },
     "output_type": "execute_result"
    }
   ],
   "source": [
    "evalues = N[Solve[Det[matrix-l*IdentityMatrix[3]] == 0, l][[All,1,2]]]\n",
    "eigenvalues = N[Eigenvalues[matrix]]"
   ]
  },
  {
   "cell_type": "markdown",
   "metadata": {},
   "source": [
    "Автоматическая проверка на равенство собственных значений"
   ]
  },
  {
   "cell_type": "code",
   "execution_count": 16,
   "metadata": {},
   "outputs": [
    {
     "name": "stdout",
     "output_type": "stream",
     "text": [
      "My eigen values and eigen values from standart function is equal.\r\n"
     ]
    }
   ],
   "source": [
    "comparevalues = True;\n",
    "For[i=1, i<Length[evalues], i++, \n",
    "    If[evalues[[i]]==eigenvalues[[4-i]], Null, comparevalues=False]]\n",
    "If[comparevalues==True, \n",
    "    Print[\"My eigen values and eigen values from standart function is equal.\"], \n",
    "    Print[\"My eigen values and eigen values from standart function is not equal.\"]];"
   ]
  },
  {
   "cell_type": "markdown",
   "metadata": {},
   "source": [
    "Получение собственных векторов, как видно собственные векторы полученные через матричные операции равны собственным значениям полученный при помощи стандартной функции Eigenvectors"
   ]
  },
  {
   "cell_type": "code",
   "execution_count": 19,
   "metadata": {},
   "outputs": [
    {
     "name": "stdout",
     "output_type": "stream",
     "text": [
      "{0., -1., 1}\n",
      "{-1.29473, 1., 1}\n",
      "{1.54473, 1., 1}\n"
     ]
    }
   ],
   "source": [
    "evectors = {{0,0,0},{0,0,0},{0,0,0}};\n",
    "For[i=1, i<=Length[evectors], i++,\n",
    "    m = matrix - evalues[[i]]*IdentityMatrix[3];\n",
    "    sol = {x, y, z} /. First[Solve[{m.{x, y, z} == {0, 0, 0}}, {x,y}]] /. z->1;\n",
    "    Print[sol];\n",
    "    evectors[[i]] = N[sol / Sqrt[Transpose[sol].sol]];]"
   ]
  },
  {
   "cell_type": "code",
   "execution_count": 21,
   "metadata": {},
   "outputs": [
    {
     "name": "stdout",
     "output_type": "stream",
     "text": [
      "{0., -1., 1.}\n",
      "{-1.29473, 1., 1.}\n",
      "{1.54473, 1., 1.}\n"
     ]
    }
   ],
   "source": [
    "eigenvectors = N[Eigenvectors[matrix]];\n",
    "For[i=1, i<=Length[eigenvectors], i++,\n",
    "    Print[eigenvectors[[4-i]]];]"
   ]
  },
  {
   "cell_type": "markdown",
   "metadata": {},
   "source": [
    "Автоматическая проверка на равенство собственных векторов"
   ]
  },
  {
   "cell_type": "code",
   "execution_count": 23,
   "metadata": {},
   "outputs": [
    {
     "name": "stdout",
     "output_type": "stream",
     "text": [
      "My eigen vectors and eigen vectors from standart function is equal.\r\n"
     ]
    }
   ],
   "source": [
    "comparevectors = True;\n",
    "For[i=1, i<=Length[eigenvectors], i++, \n",
    "    evector = N[eigenvectors[[4-i]] / Sqrt[Transpose[eigenvectors[[4-i]]].eigenvectors[[4-i]]]];\n",
    "    For[j=1, j<=Length[eigenvectors[[i]]], j++, If[evectors[[i,j]]==evector[[j]], Null, comparevectors=False]]]\n",
    "If[comparevectors==True, \n",
    "    Print[\"My eigen vectors and eigen vectors from standart function is equal.\"], \n",
    "    Print[\"My eigen vectors and eigen vectors from standart function is not equal.\"]];"
   ]
  },
  {
   "cell_type": "markdown",
   "metadata": {},
   "source": [
    "Получаем нужные коэффициенты для канонической формы"
   ]
  },
  {
   "cell_type": "code",
   "execution_count": 26,
   "metadata": {},
   "outputs": [
    {
     "data": {
      "text/html": [
       "<div><pre style=\"&#102;&#111;&#110;&#116;&#45;&#102;&#97;&#109;&#105;&#108;&#121;&#58;&#32;&#34;&#67;&#111;&#117;&#114;&#105;&#101;&#114;&#32;&#78;&#101;&#119;&#34;&#44;&#67;&#111;&#117;&#114;&#105;&#101;&#114;&#44;&#109;&#111;&#110;&#111;&#115;&#112;&#97;&#99;&#101;&#59;\">&#123;&#45;&#48;&#46;&#51;&#53;&#51;&#53;&#53;&#51;&#44;&#32;&#45;&#49;&#46;&#55;&#54;&#53;&#48;&#49;&#44;&#32;&#50;&#46;&#52;&#53;&#49;&#52;&#56;&#125;</pre></div>"
      ],
      "text/plain": [
       "{-0.353553, -1.76501, 2.45148}"
      ]
     },
     "execution_count": 26,
     "metadata": {
      "text/html": [],
      "text/plain": []
     },
     "output_type": "execute_result"
    }
   ],
   "source": [
    "resa = evectors.a"
   ]
  },
  {
   "cell_type": "markdown",
   "metadata": {},
   "source": [
    "Канонический вид"
   ]
  },
  {
   "cell_type": "code",
   "execution_count": 27,
   "metadata": {},
   "outputs": [],
   "source": [
    "resf[x_, y_, z_] = evalues[[3]]*x^2 + evalues[[2]]*y^2 + evalues[[1]]*z^2 + 2*resa[[2]]*x + 2*resa[[3]]*y + 2*resa[[1]]*z + a0;"
   ]
  },
  {
   "cell_type": "markdown",
   "metadata": {},
   "source": [
    "Построим график"
   ]
  },
  {
   "cell_type": "code",
   "execution_count": 28,
   "metadata": {},
   "outputs": [
    {
     "data": {
      "text/html": [
       "<div><img alt=\"Output\" src=\"data:image/png;base64,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\"></div>"
      ],
      "text/plain": [
       "-Graphics3D-"
      ]
     },
     "execution_count": 28,
     "metadata": {
      "text/html": [],
      "text/plain": []
     },
     "output_type": "execute_result"
    }
   ],
   "source": [
    "ContourPlot3D[resf[x,y,z] == 0, {x, xmin, xmax}, {y, ymin, ymax}, {z, zmin, zmax}]"
   ]
  },
  {
   "cell_type": "code",
   "execution_count": null,
   "metadata": {},
   "outputs": [],
   "source": []
  }
 ],
 "metadata": {
  "kernelspec": {
   "display_name": "Wolfram Language 12.2",
   "language": "Wolfram Language",
   "name": "wolframlanguage12.2"
  },
  "language_info": {
   "codemirror_mode": "mathematica",
   "file_extension": ".m",
   "mimetype": "application/vnd.wolfram.m",
   "name": "Wolfram Language",
   "pygments_lexer": "mathematica",
   "version": "12.0"
  }
 },
 "nbformat": 4,
 "nbformat_minor": 4
}
