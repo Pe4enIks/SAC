{
 "cells": [
  {
   "cell_type": "markdown",
   "metadata": {},
   "source": [
    "# Приведение к каноническому виду"
   ]
  },
  {
   "cell_type": "markdown",
   "metadata": {},
   "source": [
    "Границы отрисовки графика"
   ]
  },
  {
   "cell_type": "code",
   "execution_count": 177,
   "metadata": {},
   "outputs": [],
   "source": [
    "xmin = -10;\n",
    "xmax = 10;\n",
    "ymin = -10;\n",
    "ymax = 10;\n",
    "zmin = -10;\n",
    "zmax = 10;"
   ]
  },
  {
   "cell_type": "markdown",
   "metadata": {},
   "source": [
    "Задаем функцию"
   ]
  },
  {
   "cell_type": "code",
   "execution_count": 183,
   "metadata": {},
   "outputs": [],
   "source": [
    "f[x_, y_, z_] = 7*x^2 + 3*y^2 + 3*z^2 +  8*x*y + 8*x*z + 6*y*z + 6*x + y + 7;"
   ]
  },
  {
   "cell_type": "markdown",
   "metadata": {},
   "source": [
    "Строим график"
   ]
  },
  {
   "cell_type": "code",
   "execution_count": 184,
   "metadata": {},
   "outputs": [
    {
     "data": {
      "text/html": [
       "<div><img alt=\"Output\" src=\"data:image/png;base64,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\"></div>"
      ],
      "text/plain": [
       "-Graphics3D-"
      ]
     },
     "execution_count": 184,
     "metadata": {
      "text/html": [],
      "text/plain": []
     },
     "output_type": "execute_result"
    }
   ],
   "source": [
    "ContourPlot3D[f[x,y,z] == 0, {x, xmin, xmax}, {y, ymin, ymax}, {z, zmin, zmax}]"
   ]
  },
  {
   "cell_type": "markdown",
   "metadata": {},
   "source": [
    "Задаем матрицу квадратичной формы и столбец коэффициентов линейной формы, а также сохраняем свободный член"
   ]
  },
  {
   "cell_type": "code",
   "execution_count": 185,
   "metadata": {},
   "outputs": [],
   "source": [
    "matrix = {{7, 4, 4}, {4, 3, 3}, {4, 3, 3}};\n",
    "a = {3, 0.5, 0};\n",
    "a0 = 7;"
   ]
  },
  {
   "cell_type": "markdown",
   "metadata": {},
   "source": [
    "Матрица в матричном виде"
   ]
  },
  {
   "cell_type": "code",
   "execution_count": 188,
   "metadata": {},
   "outputs": [
    {
     "data": {
      "text/html": [
       "<div><img alt=\"Output\" src=\"data:image/png;base64,iVBORw0KGgoAAAANSUhEUgAAAD0AAAAwCAIAAAAtnuVgAAAA0HpUWHRSYXcgcHJvZmlsZSB0eXBlIGV4aWYAAHjabU9bbgQhDPvnFD1CSIIDx2F2WKk32OOvGdhWU9USseM8gDRe38/0NaFZkpeoaIAQ3rxpp6iysDhLu+IFO3ct3/1kH7/TKr8FjO0fdz+wWOufRaL7pnkDtfke2ItMl5/7yo/dr73W+6LPkza8/jz9/9xCUZDDGV0lAo26JkoSikoJPPEA2JhxqviDPBDBMcTssD4HJ3TEvXskGI1zfsHmydbJzsico9nicuRyqh5Uthx+5w1VHlqzAdB2ggAAAAlwSFlzAAALEwAACxMBAJqcGAAAADx0RVh0U29mdHdhcmUAQ3JlYXRlZCB3aXRoIHRoZSBXb2xmcmFtIExhbmd1YWdlIDogd3d3LndvbGZyYW0uY29tXKKmhQAAACF0RVh0Q3JlYXRpb24gVGltZQAyMDIxOjA0OjIwIDE3OjAwOjI4ZkK84wAAAr9JREFUaIHtmj9v2kAYxo+qEt7MhkcGqE4oAzP5BNClU9YymZEs2SKx8AHMhOLF6oSUxZlg9ETFBkNUyzUSYjKjmTDTdaBKfGdzfg8RmyQ8my/PHb/7g3nfe5MjhKB3qC9ZAxwpAPe4naPVHoOGXvSv4WZRP4C78UBeNVJRvVoBDDxuVx6v1DoI4hg/iajb7UYb93K1OlJHh/7KTE9zwXaufzAYRDuw3KZpzmYz7uhQCvg0+X7btj3PYxrZczKfz2u1WuzOLPo9Xb3vlJN3vIlGk2Qf1I8xnk6nbGt4Ep7nxW4KIfu1gCy2q0XPKK8fyG+a5na7DbdQ3IZhLJfL2OFHKgIeVYZJpNNBv23bhmGEW6hz4jhOqVSK2apFv6fXtbsGZNvfQhhjx3HCLV9B/cqdCemIf1y5MxH6Meb5gyAIP1LrvV6vxcBSlCzL4UeKW5KkdGEEtNvtwo8Ud7FYTBdGQMxZoLg3m026MMeL4vZ9PysOUX3gOPYs9Qm44XF9KNO47i9O70cC3CJx/Uum4Wro9mcyiagfgbnH7eaz9uuuCnNTuvoGjmgF/CDuPTU8on7Z+crjjfsAicZE/bC8WCwPQOh15+//VEDfCFF/Mvei39OR3twvx+1vpDfhXx6EGj9U9PwX6hbwJ3KXO5NIXA9f/PGTXr/5Dt8qsP8t3t+h11qv6iZPUtSPEKLzy1arBU+qUhbD9gl+L89KF+50deFOVx+CW1GUrDhERXHn83mONdu8gbnbobhXqxVn7GzzBuZuh+IuFAoHqbPOG5i7HdA92znkDbxzIssyc+35nzrrvMH3feZek4oHLcuyLIuOw0TrB4ygJSG+37IspurE1qU4xTTx+sGpsAlTbCDROFaSpJijIqYT5w1BEGCM2U7MPHilqYw0HA6ZohSJrreiKDGTy1QY4+iLLkcu/w+Rpv4Bb7FUJ6JKyS0AAAAASUVORK5CYII=\"></div>"
      ],
      "text/plain": [
       "7   4   4\n",
       "\n",
       "4   3   3\n",
       "\n",
       "4   3   3"
      ]
     },
     "execution_count": 188,
     "metadata": {
      "text/html": [],
      "text/plain": []
     },
     "output_type": "execute_result"
    }
   ],
   "source": [
    "matrix // MatrixForm "
   ]
  },
  {
   "cell_type": "markdown",
   "metadata": {},
   "source": [
    "Столбец коэффициентов в матричном виде"
   ]
  },
  {
   "cell_type": "code",
   "execution_count": 189,
   "metadata": {},
   "outputs": [
    {
     "data": {
      "text/html": [
       "<div><img alt=\"Output\" src=\"data:image/png;base64,iVBORw0KGgoAAAANSUhEUgAAACsAAAAwCAIAAAAHLhTPAAAA0XpUWHRSYXcgcHJvZmlsZSB0eXBlIGV4aWYAAHjabY/RjQMhDET/qeJKMLYZQzlsQqR0cOXfsJCLNspIa48fthfS+H0+0s+UZkleoqIBQnnzpp2mytLKWdoZT+mxz/KVJ3vxTlTeBxibH1ce2AvrxyLRZWz+gd58D+xFpovnvupj92uv9brodaUtr/9X/15bKApyOKOrRKDR10TLhKJSAg/cADZm3FX8xjwQwTHE7LA+B6d0xLV7JBjBfT7B5petMzsja45mi5PISZoedLYIn/MHUMJasYbA6a0AAAAJcEhZcwAACxMAAAsTAQCanBgAAAA8dEVYdFNvZnR3YXJlAENyZWF0ZWQgd2l0aCB0aGUgV29sZnJhbSBMYW5ndWFnZSA6IHd3dy53b2xmcmFtLmNvbVyipoUAAAAhdEVYdENyZWF0aW9uIFRpbWUAMjAyMTowNDoyMCAxNzowMDoyORFFjHUAAAKHSURBVFiF7Zghj+JAFMdnLpdQVxyVCCDNhk9QPkFZg6pGtRLMaRDr1nQVFFNJgumao7IKLKYJKSUhqCKLoqhZwe3Rzi70TSGQy/GXk3kzv3nvtfPmYUIIuqt+3Hf7iwhsDX+q9ra8AIFcLF+XkKT7Wc2/8UG322U+R7VSAszq9/vpPrAsazabwejH6mEJsAPm83kQBNQgTdDpdGCrUSTqGDbXsixqJBGFzWYjCAJzCOSGitwFOBmjKDoZBdM0V6tVFh+wBMI0zZM+8DyvWCzCThL7GF+e/EkLkokIIVEUPc+Lj/yEGX6VbBBiZLKkokDnQVYgBvE8f5KA47gbEOz3+5MEhULhBgSUpxME2+32BgSUEgRhGN6Z4C56EEAJlm81UDFynIcxxpp9LQJbK7erh7vPV0bllIWPt6QhX4nAfh9I+i8ZIYSWv0dTNHgHnQ2qdILlwj2UQLaGyyNFT7uJB3W24hGaibaG62hMJq3KuVml1uRPBHwdtdPiBSUoVapoUH958okhxzySZvWsSLCyBeADuaEiSXkuIYSQ/dqeqo2/GWZrp1Lefm1PP40uJkCy4SujMsYY47qr+8cUXy7c5Mzj11h3dWjZEi+Yms0mc4nGLmqXf+Wf+CB4EPxnBFkejdclyOVyDKbQsoUW9SpJEKzXa/A6bGVLXNSrJEGQz+fBANnLFupVkvHVxlq2nNklQcDzPN1eOCtY2ZJQGIbUyzVxNzqO4zgO6IIbq+jYQPJ1CdrGcRyH6lNl7iPFGicsfSSqgUIIoTsYHMdFUQRICNnwF7UybqODLyaQyjyKIlEU6VGKKAiCXq8HOw+zhsPhbrejBum/siAI32BeSaIofvUuJo/e+gcTGKVMVDnDhgAAAABJRU5ErkJggg==\"></div>"
      ],
      "text/plain": [
       "3\n",
       "\n",
       "0.5\n",
       "\n",
       "0"
      ]
     },
     "execution_count": 189,
     "metadata": {
      "text/html": [],
      "text/plain": []
     },
     "output_type": "execute_result"
    }
   ],
   "source": [
    "a // MatrixForm"
   ]
  },
  {
   "cell_type": "markdown",
   "metadata": {},
   "source": [
    "Получение собственных значений, как видно собственные значения полученные через матричные операции равны собственным значениям\n",
    "полученный при помощи стандартной функции Eigenvalues"
   ]
  },
  {
   "cell_type": "code",
   "execution_count": 190,
   "metadata": {},
   "outputs": [
    {
     "data": {
      "text/html": [
       "<style>\n",
       "\t\t\t\t\t\t\t\t\t\t\t\t\t.grid-container {\n",
       "\t\t\t\t\t\t\t\t\t\t\t\t\t\tdisplay: inline-grid;\n",
       "\t\t\t\t\t\t\t\t\t\t\t\t\t\tgrid-template-columns: auto;\n",
       "\t\t\t\t\t\t\t\t\t\t\t\t\t}\n",
       "\t\t\t\t\t\t\t\t\t\t\t\t</style>\n",
       "\n",
       "\t\t\t\t\t\t\t\t\t\t\t\t<div><div class=\"grid-container\"><div class=\"grid-item\"><pre style=\"&#102;&#111;&#110;&#116;&#45;&#102;&#97;&#109;&#105;&#108;&#121;&#58;&#32;&#34;&#67;&#111;&#117;&#114;&#105;&#101;&#114;&#32;&#78;&#101;&#119;&#34;&#44;&#67;&#111;&#117;&#114;&#105;&#101;&#114;&#44;&#109;&#111;&#110;&#111;&#115;&#112;&#97;&#99;&#101;&#59;\">&#123;&#48;&#46;&#44;&#32;&#48;&#46;&#56;&#50;&#49;&#48;&#57;&#50;&#44;&#32;&#49;&#50;&#46;&#49;&#55;&#56;&#57;&#125;</pre></div><div class=\"grid-item\"><pre style=\"&#102;&#111;&#110;&#116;&#45;&#102;&#97;&#109;&#105;&#108;&#121;&#58;&#32;&#34;&#67;&#111;&#117;&#114;&#105;&#101;&#114;&#32;&#78;&#101;&#119;&#34;&#44;&#67;&#111;&#117;&#114;&#105;&#101;&#114;&#44;&#109;&#111;&#110;&#111;&#115;&#112;&#97;&#99;&#101;&#59;\">&#123;&#49;&#50;&#46;&#49;&#55;&#56;&#57;&#44;&#32;&#48;&#46;&#56;&#50;&#49;&#48;&#57;&#50;&#44;&#32;&#48;&#46;&#125;</pre></div></div></div>"
      ],
      "text/plain": [
       "{0., 0.821092, 12.1789}\n",
       "{12.1789, 0.821092, 0.}"
      ]
     },
     "execution_count": 190,
     "metadata": {
      "text/html": [],
      "text/plain": []
     },
     "output_type": "execute_result"
    }
   ],
   "source": [
    "evalues = N[Solve[Det[matrix-l*IdentityMatrix[3]] == 0, l][[All,1,2]]]\n",
    "eigenvalues = N[Eigenvalues[matrix]]"
   ]
  },
  {
   "cell_type": "markdown",
   "metadata": {},
   "source": [
    "Получение собственных векторов, как видно собственные векторы полученные через матричные операции равны собственным значениям полученный при помощи стандартной функции Eigenvectors"
   ]
  },
  {
   "cell_type": "code",
   "execution_count": 192,
   "metadata": {},
   "outputs": [
    {
     "name": "stdout",
     "output_type": "stream",
     "text": [
      "{0., -1., 1}\n",
      "{-1.29473, 1., 1}\n",
      "{1.54473, 1., 1}\n"
     ]
    }
   ],
   "source": [
    "evectors = {{0,0,0},{0,0,0},{0,0,0}};\n",
    "For[i=1, i<4, i++,\n",
    "    m = matrix - evalues[[i]]*IdentityMatrix[3];\n",
    "    sol = {x, y, z} /. First[Solve[Thread[{m.{x, y, z} == {0, 0, 0}}], {x,y}]] /. z->1;\n",
    "    Print[sol];\n",
    "    evectors[[i]] = N[sol / Sqrt[Transpose[sol].sol]];]"
   ]
  },
  {
   "cell_type": "code",
   "execution_count": 194,
   "metadata": {},
   "outputs": [
    {
     "name": "stdout",
     "output_type": "stream",
     "text": [
      "{0., -1., 1.}\n",
      "{-1.29473, 1., 1.}\n",
      "{1.54473, 1., 1.}\n"
     ]
    }
   ],
   "source": [
    "eigenvectors = N[Eigenvectors[matrix]];\n",
    "For[i=1, i<4, i++,\n",
    "    Print[eigenvectors[[4-i]]];]"
   ]
  },
  {
   "cell_type": "markdown",
   "metadata": {},
   "source": [
    "Получаем нужные коэффициенты для канонической формы"
   ]
  },
  {
   "cell_type": "code",
   "execution_count": 196,
   "metadata": {},
   "outputs": [
    {
     "data": {
      "text/html": [
       "<div><pre style=\"&#102;&#111;&#110;&#116;&#45;&#102;&#97;&#109;&#105;&#108;&#121;&#58;&#32;&#34;&#67;&#111;&#117;&#114;&#105;&#101;&#114;&#32;&#78;&#101;&#119;&#34;&#44;&#67;&#111;&#117;&#114;&#105;&#101;&#114;&#44;&#109;&#111;&#110;&#111;&#115;&#112;&#97;&#99;&#101;&#59;\">&#123;&#45;&#48;&#46;&#51;&#53;&#51;&#53;&#53;&#51;&#44;&#32;&#45;&#49;&#46;&#55;&#54;&#53;&#48;&#49;&#44;&#32;&#50;&#46;&#52;&#53;&#49;&#52;&#56;&#125;</pre></div>"
      ],
      "text/plain": [
       "{-0.353553, -1.76501, 2.45148}"
      ]
     },
     "execution_count": 196,
     "metadata": {
      "text/html": [],
      "text/plain": []
     },
     "output_type": "execute_result"
    }
   ],
   "source": [
    "resa = evectors.a"
   ]
  },
  {
   "cell_type": "markdown",
   "metadata": {},
   "source": [
    "Канонический вид"
   ]
  },
  {
   "cell_type": "code",
   "execution_count": 199,
   "metadata": {},
   "outputs": [],
   "source": [
    "resf[x_, y_, z_] = evalues[[3]]*x^2 + evalues[[2]]*y^2 + evalues[[1]]*z^2 + 2*resa[[2]]*x + 2*resa[[3]]*y + 2*resa[[1]]*z + a0;"
   ]
  },
  {
   "cell_type": "markdown",
   "metadata": {},
   "source": [
    "Построим график"
   ]
  },
  {
   "cell_type": "code",
   "execution_count": 200,
   "metadata": {},
   "outputs": [
    {
     "data": {
      "text/html": [
       "<div><img alt=\"Output\" src=\"data:image/png;base64,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\"></div>"
      ],
      "text/plain": [
       "-Graphics3D-"
      ]
     },
     "execution_count": 200,
     "metadata": {
      "text/html": [],
      "text/plain": []
     },
     "output_type": "execute_result"
    }
   ],
   "source": [
    "ContourPlot3D[resf[x,y,z] == 0, {x, xmin, xmax}, {y, ymin, ymax}, {z, zmin, zmax}]"
   ]
  },
  {
   "cell_type": "code",
   "execution_count": null,
   "metadata": {},
   "outputs": [],
   "source": []
  }
 ],
 "metadata": {
  "kernelspec": {
   "display_name": "Wolfram Language 12.2",
   "language": "Wolfram Language",
   "name": "wolframlanguage12.2"
  },
  "language_info": {
   "codemirror_mode": "mathematica",
   "file_extension": ".m",
   "mimetype": "application/vnd.wolfram.m",
   "name": "Wolfram Language",
   "pygments_lexer": "mathematica",
   "version": "12.0"
  }
 },
 "nbformat": 4,
 "nbformat_minor": 4
}
