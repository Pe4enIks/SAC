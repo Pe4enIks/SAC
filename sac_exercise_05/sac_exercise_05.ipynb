{
 "cells": [
  {
   "cell_type": "markdown",
   "metadata": {},
   "source": [
    "# Получение НОД"
   ]
  },
  {
   "cell_type": "markdown",
   "metadata": {},
   "source": [
    "Задание функций и получение gcd(f,g) через стандартный PolynomialGCD"
   ]
  },
  {
   "cell_type": "code",
   "execution_count": 1,
   "metadata": {},
   "outputs": [],
   "source": [
    "f[x_] = x^4 - 4*x^3 + 7*x^2 - 5*x + 1;\n",
    "g[x_] = x^5 - x^4 - x^3 + x^2 + 5*x - 5;\n",
    "wolframgcd = PolynomialGCD[f[x], g[x]];"
   ]
  },
  {
   "cell_type": "markdown",
   "metadata": {},
   "source": [
    "Функция для получения НОД poly1_ и poly2_ "
   ]
  },
  {
   "cell_type": "code",
   "execution_count": 4,
   "metadata": {},
   "outputs": [],
   "source": [
    "getgcd[poly1_, poly2_]:=\n",
    "        Module[\n",
    "            {p1=poly1, p2=poly2, xval=1, xxval=0, yval=0, yyval=1, q, r},\n",
    "            While[\n",
    "                Length[CoefficientList[p2, x]] != 0,\n",
    "                    q = PolynomialQuotient[p1, p2, x];\n",
    "                    r = PolynomialRemainder[p1, p2, x];\n",
    "                    {p1, p2} = {p2, r};\n",
    "                    {xval, xxval} = {xxval, (xval - xxval*q) // ExpandAll};\n",
    "                    {yval, yyval} = {yyval, (yval - yyval*q) // ExpandAll};\n",
    "                    \n",
    "            ];\n",
    "            {xval, yval, p1}\n",
    "        ];"
   ]
  },
  {
   "cell_type": "markdown",
   "metadata": {},
   "source": [
    "Получаем коэффициенты Безу и gcd(f,g)"
   ]
  },
  {
   "cell_type": "code",
   "execution_count": 5,
   "metadata": {},
   "outputs": [],
   "source": [
    "mygcd = getgcd[f[x], g[x]];"
   ]
  },
  {
   "cell_type": "markdown",
   "metadata": {},
   "source": [
    "Проверяем тождество Безу"
   ]
  },
  {
   "cell_type": "code",
   "execution_count": 6,
   "metadata": {},
   "outputs": [
    {
     "data": {
      "text/html": [
       "<div><img alt=\"Output\" src=\"data:image/png;base64,iVBORw0KGgoAAAANSUhEUgAAABwAAAAPCAIAAAB4LTj2AAAAznpUWHRSYXcgcHJvZmlsZSB0eXBlIGV4aWYAAHjabU9RrgMhCPz3FD0CAg56HHfrJr1Bj19YTRtfHonMMAyoabxfV3pEcKakxSoaQB7atHF3UmnGxEztzrM4Vy/veqJr6d2l8mtgLP3YdcNErn8X8SQSNzgXXQNrkfDUc5/1sfzca90XCW2h9fv0/2sxRkE29axMZmjOa3LqgMJUDBdOwI0ZTyY9HQfMfAwWDukxGMHDdvdIEBee8QWJk6U7qmcW5lDYebl1EeLDu3J74jsflsRa4GB4CksAAAAJcEhZcwAACxMAAAsTAQCanBgAAAA8dEVYdFNvZnR3YXJlAENyZWF0ZWQgd2l0aCB0aGUgV29sZnJhbSBMYW5ndWFnZSA6IHd3dy53b2xmcmFtLmNvbVyipoUAAAAhdEVYdENyZWF0aW9uIFRpbWUAMjAyMTowNDoyMiAyMjo1MTozMNmcFfwAAADGSURBVDiN5ZMhEoMwEEX/dnqUconmBImqqq0LEkwdN6hJJHG1qCpygnICBgG5SyoInYmAKVNMp19lfnbe5u9syHuPrbXbnPhbUKcZxWLafUv1QbWErP02mo1vU0r1O0VqJ8+O106z6BzVLc3UVLiHFOZh57snXTHFhWDaLUJlkR0AALz0JZ8pcn0LI8JDhQEA7BegH2nomqManqH9qLUr1fYOgNOXvBkNfpJNfouHswrKrwp5QkRJdVZyMstBtSLaR/rvv/8CrnuckB3i8l4AAAAASUVORK5CYII=\"></div>"
      ],
      "text/plain": [
       "True"
      ]
     },
     "execution_count": 6,
     "metadata": {
      "text/html": [],
      "text/plain": []
     },
     "output_type": "execute_result"
    }
   ],
   "source": [
    "Simplify[mygcd[[3]]] == Simplify[f[x]*mygcd[[1]]+mygcd[[2]]*g[x]]"
   ]
  },
  {
   "cell_type": "markdown",
   "metadata": {},
   "source": [
    "Нормализация gcd(f,g)"
   ]
  },
  {
   "cell_type": "code",
   "execution_count": 7,
   "metadata": {},
   "outputs": [],
   "source": [
    "normgcd[poly_, x_] := Simplify[poly / CoefficientList[poly, x]//Last];"
   ]
  },
  {
   "cell_type": "code",
   "execution_count": 8,
   "metadata": {},
   "outputs": [],
   "source": [
    "gcd = normgcd[mygcd[[3]], x];"
   ]
  },
  {
   "cell_type": "markdown",
   "metadata": {},
   "source": [
    "Видим что в результате собственно полученный gcd(f,g) равен gcd(f,g) полученному при помощи PolynomialGCD"
   ]
  },
  {
   "cell_type": "code",
   "execution_count": 9,
   "metadata": {},
   "outputs": [
    {
     "data": {
      "text/html": [
       "<style>\n",
       "\t\t\t\t\t\t\t\t\t\t\t\t\t.grid-container {\n",
       "\t\t\t\t\t\t\t\t\t\t\t\t\t\tdisplay: inline-grid;\n",
       "\t\t\t\t\t\t\t\t\t\t\t\t\t\tgrid-template-columns: auto;\n",
       "\t\t\t\t\t\t\t\t\t\t\t\t\t}\n",
       "\t\t\t\t\t\t\t\t\t\t\t\t</style>\n",
       "\n",
       "\t\t\t\t\t\t\t\t\t\t\t\t<div><div class=\"grid-container\"><div class=\"grid-item\"><img alt=\"Output\" src=\"data:image/png;base64,iVBORw0KGgoAAAANSUhEUgAAACUAAAAPCAIAAADsy5EEAAAAznpUWHRSYXcgcHJvZmlsZSB0eXBlIGV4aWYAAHjabU/RDUMhCPx3io6AgIeO42t9STfo+IWnaWPTS4TjOFDTeD3PdAtwpqTFKhpADm3auDupNDFzpnbFC1xWL+96onPp3aXybWAs/dh1w1pYfxfxJBI3OBddA2uR8NRzn/Wx/Nxr3RcJbdD6efr/WoxRkE09KpMZmvOanHpCYSqGE3fAjRkPJr17HjDzMVg4pMdggIft7pEgLjziCxInS/esHlmYQ2Hn5dJFMh/elcsT33kDVJBatEnNZAkAAAAJcEhZcwAACxMAAAsTAQCanBgAAAA8dEVYdFNvZnR3YXJlAENyZWF0ZWQgd2l0aCB0aGUgV29sZnJhbSBMYW5ndWFnZSA6IHd3dy53b2xmcmFtLmNvbVyipoUAAAAhdEVYdENyZWF0aW9uIFRpbWUAMjAyMTowNDoyMiAyMjo1MTozMa6bJWoAAADRSURBVDiN7ZS9EcIwDIWfOEYxDKFMEJags8usIsrQsYQ9AUzAUUTaRRT8XLhLCEUuFa+z5Ofvyb4zuTsW1GpJ2J8H2KEiIkplCV5JtMdJheeBTfLq1s9NmDrDSrGhekm9iymJqDrYHO+nXTdYr1vP8bhLBShpdxU9N2H9SGj9gCFMjvTSy6hmg8a6Vak2RIjZmwBgDcBMVfu7fgU+jd3thu123MjMl/fCp6XCiHm8n0V0rBXBoq7CYFF3/87L8TPpMHWMlyOelEdmsCj5//+cU3eedfgHw5UbEwAAAABJRU5ErkJggg==\"></div><div class=\"grid-item\"><img alt=\"Output\" src=\"data:image/png;base64,iVBORw0KGgoAAAANSUhEUgAAACUAAAAPCAIAAADsy5EEAAAAznpUWHRSYXcgcHJvZmlsZSB0eXBlIGV4aWYAAHjabU/RDUMhCPx3io6AgIeO42t9STfo+IWnaWPTS4TjOFDTeD3PdAtwpqTFKhpADm3auDupNDFzpnbFC1xWL+96onPp3aXybWAs/dh1w1pYfxfxJBI3OBddA2uR8NRzn/Wx/Nxr3RcJbdD6efr/WoxRkE09KpMZmvOanHpCYSqGE3fAjRkPJr17HjDzMVg4pMdggIft7pEgLjziCxInS/esHlmYQ2Hn5dJFMh/elcsT33kDVJBatEnNZAkAAAAJcEhZcwAACxMAAAsTAQCanBgAAAA8dEVYdFNvZnR3YXJlAENyZWF0ZWQgd2l0aCB0aGUgV29sZnJhbSBMYW5ndWFnZSA6IHd3dy53b2xmcmFtLmNvbVyipoUAAAAhdEVYdENyZWF0aW9uIFRpbWUAMjAyMTowNDoyMiAyMjo1MTozMa6bJWoAAADRSURBVDiN7ZS9EcIwDIWfOEYxDKFMEJags8usIsrQsYQ9AUzAUUTaRRT8XLhLCEUuFa+z5Ofvyb4zuTsW1GpJ2J8H2KEiIkplCV5JtMdJheeBTfLq1s9NmDrDSrGhekm9iymJqDrYHO+nXTdYr1vP8bhLBShpdxU9N2H9SGj9gCFMjvTSy6hmg8a6Vak2RIjZmwBgDcBMVfu7fgU+jd3thu123MjMl/fCp6XCiHm8n0V0rBXBoq7CYFF3/87L8TPpMHWMlyOelEdmsCj5//+cU3eedfgHw5UbEwAAAABJRU5ErkJggg==\"></div><div class=\"grid-item\"><img alt=\"Output\" src=\"data:image/png;base64,iVBORw0KGgoAAAANSUhEUgAAABwAAAAPCAIAAAB4LTj2AAAAznpUWHRSYXcgcHJvZmlsZSB0eXBlIGV4aWYAAHjabU9RrgMhCPz3FD0CAg56HHfrJr1Bj19YTRtfHonMMAyoabxfV3pEcKakxSoaQB7atHF3UmnGxEztzrM4Vy/veqJr6d2l8mtgLP3YdcNErn8X8SQSNzgXXQNrkfDUc5/1sfzca90XCW2h9fv0/2sxRkE29axMZmjOa3LqgMJUDBdOwI0ZTyY9HQfMfAwWDukxGMHDdvdIEBee8QWJk6U7qmcW5lDYebl1kcyHd+X2xHc+ltRa4RC9T+cAAAAJcEhZcwAACxMAAAsTAQCanBgAAAA8dEVYdFNvZnR3YXJlAENyZWF0ZWQgd2l0aCB0aGUgV29sZnJhbSBMYW5ndWFnZSA6IHd3dy53b2xmcmFtLmNvbVyipoUAAAAhdEVYdENyZWF0aW9uIFRpbWUAMjAyMTowNDoyMiAyMjo1MTozMa6bJWoAAADGSURBVDiN5ZMhEoMwEEX/dnqUconmBImqqq0LEkwdN6hJJHG1qCpygnICBgG5SyoInYmAKVNMp19lfnbe5u9syHuPrbXbnPhbUKcZxWLafUv1QbWErP02mo1vU0r1O0VqJ8+O106z6BzVLc3UVLiHFOZh57snXTHFhWDaLUJlkR0AALz0JZ8pcn0LI8JDhQEA7BegH2nomqManqH9qLUr1fYOgNOXvBkNfpJNfouHswrKrwp5QkRJdVZyMstBtSLaR/rvv/8CrnuckB3i8l4AAAAASUVORK5CYII=\"></div></div></div>"
      ],
      "text/plain": [
       "-1 + x\n",
       "-1 + x\n",
       "True"
      ]
     },
     "execution_count": 9,
     "metadata": {
      "text/html": [],
      "text/plain": []
     },
     "output_type": "execute_result"
    }
   ],
   "source": [
    "gcd\n",
    "wolframgcd\n",
    "gcd == wolframgcd"
   ]
  },
  {
   "cell_type": "code",
   "execution_count": null,
   "metadata": {},
   "outputs": [],
   "source": []
  }
 ],
 "metadata": {
  "kernelspec": {
   "display_name": "Wolfram Language 12.2",
   "language": "Wolfram Language",
   "name": "wolframlanguage12.2"
  },
  "language_info": {
   "codemirror_mode": "mathematica",
   "file_extension": ".m",
   "mimetype": "application/vnd.wolfram.m",
   "name": "Wolfram Language",
   "pygments_lexer": "mathematica",
   "version": "12.0"
  }
 },
 "nbformat": 4,
 "nbformat_minor": 4
}
