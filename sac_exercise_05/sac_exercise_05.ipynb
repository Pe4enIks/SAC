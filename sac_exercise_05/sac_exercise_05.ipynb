{
 "cells": [
  {
   "cell_type": "markdown",
   "metadata": {},
   "source": [
    "# Метод дихотомии"
   ]
  },
  {
   "cell_type": "code",
   "execution_count": 1,
   "metadata": {},
   "outputs": [],
   "source": [
    "xmin = -10;\n",
    "xmax = 10;\n",
    "ymin = -10;\n",
    "ymax = 10;"
   ]
  },
  {
   "cell_type": "code",
   "execution_count": 5,
   "metadata": {},
   "outputs": [],
   "source": [
    "f[x_] := x^3 - 9*x^2 + 23*x - 15"
   ]
  },
  {
   "cell_type": "code",
   "execution_count": 6,
   "metadata": {},
   "outputs": [
    {
     "data": {
      "text/html": [
       "<div><img alt=\"Output\" src=\"data:image/png;base64,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\"></div>"
      ],
      "text/plain": [
       "-Graphics-"
      ]
     },
     "execution_count": 6,
     "metadata": {
      "text/html": [],
      "text/plain": []
     },
     "output_type": "execute_result"
    }
   ],
   "source": [
    "Plot[f[x], {x, xmin, xmax}, PlotRange->{{xmin, xmax}, {ymin, ymax}}]"
   ]
  },
  {
   "cell_type": "code",
   "execution_count": 7,
   "metadata": {},
   "outputs": [],
   "source": [
    "a = 0;\n",
    "b = 2;\n",
    "eps = 0.00001;\n",
    "res = \"None\";\n",
    "tmpa = a;\n",
    "tmpb = b;"
   ]
  },
  {
   "cell_type": "code",
   "execution_count": 13,
   "metadata": {},
   "outputs": [
    {
     "name": "stdout",
     "output_type": "stream",
     "text": [
      "On interval a=0 b=2 root x=1.\r\n"
     ]
    },
    {
     "data": {
      "text/html": [
       "<div><img alt=\"Output\" src=\"data:image/png;base64,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\"></div>"
      ],
      "text/plain": [
       "-Graphics-"
      ]
     },
     "execution_count": 20,
     "metadata": {
      "text/html": [],
      "text/plain": []
     },
     "output_type": "execute_result"
    }
   ],
   "source": [
    "If[TautologyQ[N[f[a]*f[b]]>0], Null, \n",
    "    If[TautologyQ[N[Abs[f[(a+b)/2]]]<eps], \n",
    "        Null,\n",
    "        While[TautologyQ[N[(b-a)]>eps],\n",
    "                median=N[(a + b) / 2]; \n",
    "                a = If[N[f[b]]*N[f[median]]<0,N[median],N[a]]; \n",
    "                b = If[N[f[b]]*N[f[median]]<0,N[b],N[median]];]];\n",
    "    res = N[(a+b)/2];]\n",
    "If[TautologyQ[N[Abs[f[res]]] < eps], Null, res=\"None\"];\n",
    "Print[\"On interval a=\", tmpa, \" b=\", tmpb, \" root x=\", res]\n",
    "deadlines = {{tmpa, 0}, {tmpb, 0}};\n",
    "g1 = Plot[f[x], {x, xmin, xmax}, PlotRange->{{xmin, xmax}, {ymin, ymax}}];\n",
    "g2 = ListPlot[deadlines, PlotStyle->{Black, PointSize[Large]}];\n",
    "g3 = ListPlot[{{res,0}}, PlotStyle->{Red, PointSize[Large]}];\n",
    "If[TautologyQ[res!=\"None\"],Show[{g1, g2, g3}], Show[{g1, g2}]]"
   ]
  },
  {
   "cell_type": "markdown",
   "metadata": {},
   "source": [
    "# Метод Ньютона"
   ]
  },
  {
   "cell_type": "code",
   "execution_count": 21,
   "metadata": {},
   "outputs": [],
   "source": [
    "xmin = -10;\n",
    "xmax = 10;\n",
    "ymin = -10;\n",
    "ymax = 10;"
   ]
  },
  {
   "cell_type": "code",
   "execution_count": 25,
   "metadata": {},
   "outputs": [],
   "source": [
    "f[x_] := x^3 - 9*x^2 + 23*x - 15"
   ]
  },
  {
   "cell_type": "code",
   "execution_count": 26,
   "metadata": {},
   "outputs": [
    {
     "data": {
      "text/html": [
       "<div><img alt=\"Output\" src=\"data:image/png;base64,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\"></div>"
      ],
      "text/plain": [
       "-Graphics-"
      ]
     },
     "execution_count": 26,
     "metadata": {
      "text/html": [],
      "text/plain": []
     },
     "output_type": "execute_result"
    }
   ],
   "source": [
    "Plot[f[x], {x, xmin, xmax}, PlotRange->{{xmin, xmax}, {ymin, ymax}}]"
   ]
  },
  {
   "cell_type": "code",
   "execution_count": 27,
   "metadata": {},
   "outputs": [],
   "source": [
    "a = 0;\n",
    "b = 2;\n",
    "eps = 0.00001;"
   ]
  },
  {
   "cell_type": "code",
   "execution_count": 30,
   "metadata": {},
   "outputs": [
    {
     "name": "stdout",
     "output_type": "stream",
     "text": [
      "On interval a=0 b=2 root x=1.\r\n"
     ]
    },
    {
     "data": {
      "text/html": [
       "<div><img alt=\"Output\" src=\"data:image/png;base64,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\"></div>"
      ],
      "text/plain": [
       "-Graphics-"
      ]
     },
     "execution_count": 41,
     "metadata": {
      "text/html": [],
      "text/plain": []
     },
     "output_type": "execute_result"
    }
   ],
   "source": [
    "x1 = a;\n",
    "x2 = (a+b)/2;\n",
    "While[TautologyQ[N[Abs[x2-x1]]>eps], \n",
    "         x1=x2;\n",
    "         x2=x1-f[x1]/f'[x1];]\n",
    "x1 = N[x1];\n",
    "If[TautologyQ[N[Abs[f[x1]]]<eps], Null, x1=\"None\"];\n",
    "Print[\"On interval a=\", a, \" b=\", b, \" root x=\", x1]\n",
    "If[TautologyQ[x1!=\"None\"], g3=ListPlot[{{N[x1],0}}, PlotStyle->{Red, PointSize[Large]}], Null];\n",
    "deadlines = {{a, 0}, {b, 0}};\n",
    "g1 = Plot[f[x], {x, xmin, xmax}, PlotRange->{{xmin, xmax}, {ymin, ymax}}];\n",
    "g2 = ListPlot[deadlines, PlotStyle->{Black, PointSize[Large]}];\n",
    "g3 = ListPlot[{{x1,0}}, PlotStyle->{Red, PointSize[Large]}];\n",
    "If[TautologyQ[res!=\"None\"],Show[{g1, g2, g3}], Show[{g1, g2}]]"
   ]
  },
  {
   "cell_type": "markdown",
   "metadata": {},
   "source": [
    "# Получение НОД"
   ]
  },
  {
   "cell_type": "markdown",
   "metadata": {},
   "source": [
    "Задание функций и получение gcd(f,g) через стандартный PolynomialGCD"
   ]
  },
  {
   "cell_type": "code",
   "execution_count": 42,
   "metadata": {},
   "outputs": [],
   "source": [
    "f[x_] = x^4 - 4*x^3 + 7*x^2 - 5*x + 1;\n",
    "g[x_] = x^5 - x^4 - x^3 + x^2 + 5*x - 5;\n",
    "wolframgcd = PolynomialGCD[f[x], g[x]];"
   ]
  },
  {
   "cell_type": "markdown",
   "metadata": {},
   "source": [
    "Начальная инициализация"
   ]
  },
  {
   "cell_type": "code",
   "execution_count": 45,
   "metadata": {},
   "outputs": [],
   "source": [
    "xval = 1;\n",
    "xxval = 0;\n",
    "yval = 0;\n",
    "yyval = 1;"
   ]
  },
  {
   "cell_type": "markdown",
   "metadata": {},
   "source": [
    "Копируем наши функции"
   ]
  },
  {
   "cell_type": "code",
   "execution_count": 49,
   "metadata": {},
   "outputs": [],
   "source": [
    "f1[x_] = f[x];\n",
    "f2[x_] = g[x];"
   ]
  },
  {
   "cell_type": "markdown",
   "metadata": {},
   "source": [
    "Вычисляем коэффициенты тождества Безу(xval,yval) и f1=gcd(f, g)"
   ]
  },
  {
   "cell_type": "code",
   "execution_count": 51,
   "metadata": {},
   "outputs": [],
   "source": [
    "While[TautologyQ[Length[CoefficientList[f2[x], x]] != 0], \n",
    "        q=PolynomialQuotient[f1[x], f2[x], x];\n",
    "        r=PolynomialRemainder[f1[x], f2[x], x];\n",
    "        f1[x_]=f2[x];\n",
    "        f2[x_]=r;\n",
    "        tmpx=xval;\n",
    "        tmpy=yval;\n",
    "        xval=xxval;\n",
    "        xxval=tmpx-xxval*q;\n",
    "        yval=yyval;\n",
    "        yyval=tmpy-yyval*q;\n",
    "]"
   ]
  },
  {
   "cell_type": "markdown",
   "metadata": {},
   "source": [
    "Проверяем тождество Безу и сохраняем наш gcd(f,g)"
   ]
  },
  {
   "cell_type": "code",
   "execution_count": 52,
   "metadata": {},
   "outputs": [
    {
     "data": {
      "text/html": [
       "<div><img alt=\"Output\" src=\"data:image/png;base64,iVBORw0KGgoAAAANSUhEUgAAABwAAAAPCAIAAAB4LTj2AAAAz3pUWHRSYXcgcHJvZmlsZSB0eXBlIGV4aWYAAHjabU/trQMhDPvPFB0hJCGBcbgrJ3WDjl/nQK14epaIHecDSOP9utIjwJmSFq/WzAjQpo07RKWJyZnaHWdyrlre/UTX8jus8ivYWP6x+26Tuf5dxFNI3AAtugbWIuHp5z7zY/Vzr3VfJLRB6/fp/+fibMWyK6IyuVuDrgkSZIWpuF12mqEx25NJT/Awd4yZR4f0GAzw8L17JBMYz/iCxMnSwYqIHKMZ3KVIu2PlA1W5e+I7H5e2Wu+U/4NRAAAACXBIWXMAAAsTAAALEwEAmpwYAAAAPHRFWHRTb2Z0d2FyZQBDcmVhdGVkIHdpdGggdGhlIFdvbGZyYW0gTGFuZ3VhZ2UgOiB3d3cud29sZnJhbS5jb21coqaFAAAAIXRFWHRDcmVhdGlvbiBUaW1lADIwMjE6MDQ6MjAgMTI6NTk6NTjO08V5AAAAxklEQVQ4jeWTIRKDMBBF/3Z6lHKJ5gSJqqqtCxJMHTeoSSRxtagqcoJyAgYBuUsqCJ2JgClTTKdfZX523ubvbMh7j62125z4W1CnGcVi2n1L9UG1hKz9NpqNb1NK9TtFaifPjtdOs+gc1S3N1FS4hxTmYee7J10xxYVg2i1CZZEdAAC89CWfKXJ9CyPCQ4UBAOwXoB9p6JqjGp6h/ai1K9X2DoDTl7wZDX6STX6Lh7MKyq8KeUJESXVWcjLLQbUi2kf677//Aq57nJAd4vJeAAAAAElFTkSuQmCC\"></div>"
      ],
      "text/plain": [
       "True"
      ]
     },
     "execution_count": 52,
     "metadata": {
      "text/html": [],
      "text/plain": []
     },
     "output_type": "execute_result"
    }
   ],
   "source": [
    "Simplify[f1[x]] == Simplify[f[x]*xval+yval*g[x]]\n",
    "mygcd = Simplify[f[x]*xval+yval*g[x]];"
   ]
  },
  {
   "cell_type": "markdown",
   "metadata": {},
   "source": [
    "Наш gcd(f,g) отличается от стандратного только на константу, найдем ее и поделим наш gcd(f,g) на нее"
   ]
  },
  {
   "cell_type": "code",
   "execution_count": 54,
   "metadata": {},
   "outputs": [],
   "source": [
    "myconst = mygcd / wolframgcd;\n",
    "mygcd = mygcd / myconst;"
   ]
  },
  {
   "cell_type": "markdown",
   "metadata": {},
   "source": [
    "Видим что в результате собственно полученный gcd(f,g) равен gcd(f,g) полученному при помощи PolynomialGCD"
   ]
  },
  {
   "cell_type": "code",
   "execution_count": 56,
   "metadata": {},
   "outputs": [
    {
     "data": {
      "text/html": [
       "<style>\n",
       "\t\t\t\t\t\t\t\t\t\t\t\t\t.grid-container {\n",
       "\t\t\t\t\t\t\t\t\t\t\t\t\t\tdisplay: inline-grid;\n",
       "\t\t\t\t\t\t\t\t\t\t\t\t\t\tgrid-template-columns: auto;\n",
       "\t\t\t\t\t\t\t\t\t\t\t\t\t}\n",
       "\t\t\t\t\t\t\t\t\t\t\t\t</style>\n",
       "\n",
       "\t\t\t\t\t\t\t\t\t\t\t\t<div><div class=\"grid-container\"><div class=\"grid-item\"><img alt=\"Output\" src=\"data:image/png;base64,iVBORw0KGgoAAAANSUhEUgAAACUAAAAPCAIAAADsy5EEAAAAz3pUWHRSYXcgcHJvZmlsZSB0eXBlIGV4aWYAAHjabU/RbQUhDPtnio4QkuDAONx7nNQNOn7NgVpR1RJx4jgB0vj6vNPHhGZJXqKiAUJ486adSZWFxVnaEx9o2b186knurXdK5beBsfXr1AN7Yf27SFdi8wbm5ntgLzJdeu6rvrZfe63nIpMDXn+e/n9toSjI4YyuEoHGvCamJBSVErjxAmjMeKv4izwQwTHEdFifgxM64nSPBKPwnl+webJ1sjOy5mgmdyvWnlj1Ytcez/zON1VyWsKgVCDCAAAACXBIWXMAAAsTAAALEwEAmpwYAAAAPHRFWHRTb2Z0d2FyZQBDcmVhdGVkIHdpdGggdGhlIFdvbGZyYW0gTGFuZ3VhZ2UgOiB3d3cud29sZnJhbS5jb21coqaFAAAAIXRFWHRDcmVhdGlvbiBUaW1lADIwMjE6MDQ6MjAgMTI6NTk6NTjO08V5AAAA0UlEQVQ4je2UvRHCMAyFnzhGMQyhTBCWoLPLrCLK0LGEPQFMwFFE2kUU/Fy4SwhFLhWvs+Tn78m+M7k7FtRqSdifB9ihIiJKZQleSbTHSYXngU3y6tbPTZg6w0qxoXpJvYspiag62Bzvp103WK9bz/G4SwUoaXcVPTdh/Uho/YAhTI700suoZoPGulWpNkSI2ZsAYA3ATFX7u34FPo3d7YbtdtzIzJf3wqelwoh5vJ9FdKwVwaKuwmBRd//Oy/Ez6TB1jJcjnpRHZrAo+f//nFN3nnX4B8OVGxMAAAAASUVORK5CYII=\"></div><div class=\"grid-item\"><img alt=\"Output\" src=\"data:image/png;base64,iVBORw0KGgoAAAANSUhEUgAAACUAAAAPCAIAAADsy5EEAAAAznpUWHRSYXcgcHJvZmlsZSB0eXBlIGV4aWYAAHjabU/RbQUhDPtnio4QkuDAONx7nNQNOn7NgVpR1RJx4jgB0vj6vNPHhGZJXqKiAUJ486adSZWFxVnaEx9o2b186knurXdK5beBsfXr1AN7Yf27SFdi8wbm5ntgLzJdeu6rvrZfe63nIpMDXn+e/n9toSjI4YyuEoHGvCamJBSVErjxAmjMeKv4izwQwTHEdFifgxM64nSPBKPwnl+webJ1sjOy5mgmdyvWVtSLXXs88zvfVYJawwwn/UgAAAAJcEhZcwAACxMAAAsTAQCanBgAAAA8dEVYdFNvZnR3YXJlAENyZWF0ZWQgd2l0aCB0aGUgV29sZnJhbSBMYW5ndWFnZSA6IHd3dy53b2xmcmFtLmNvbVyipoUAAAAhdEVYdENyZWF0aW9uIFRpbWUAMjAyMTowNDoyMCAxMjo1OTo1ObnU9e8AAADRSURBVDiN7ZS9EcIwDIWfOEYxDKFMEJags8usIsrQsYQ9AUzAUUTaRRT8XLhLCEUuFa+z5Ofvyb4zuTsW1GpJ2J8H2KEiIkplCV5JtMdJheeBTfLq1s9NmDrDSrGhekm9iymJqDrYHO+nXTdYr1vP8bhLBShpdxU9N2H9SGj9gCFMjvTSy6hmg8a6Vak2RIjZmwBgDcBMVfu7fgU+jd3thu123MjMl/fCp6XCiHm8n0V0rBXBoq7CYFF3/87L8TPpMHWMlyOelEdmsCj5//+cU3eedfgHw5UbEwAAAABJRU5ErkJggg==\"></div><div class=\"grid-item\"><img alt=\"Output\" src=\"data:image/png;base64,iVBORw0KGgoAAAANSUhEUgAAABwAAAAPCAIAAAB4LTj2AAAAznpUWHRSYXcgcHJvZmlsZSB0eXBlIGV4aWYAAHjabU/tbQUhDPvPFB0hJMGBcbh7nNQNOn7NA7WiqiVix/kA0vj6fNLHhGZJXqKiAUJ486adosrC4iztHVdy71o+/STP9jut8lvA2P51+oHFWv8u0iVs3kBtvgf2ItPl577ya/drr/VcZHLA68/T/88tFAU5nNFVItCoa6IkoaiUwIMbYGPGS8Vv8kAExxCzw/ocnNARZ/dIMBqv+QWbJ1snOyNzjmZyt2JtRb1YtXfP/M43l8Za8DLsR2YAAAAJcEhZcwAACxMAAAsTAQCanBgAAAA8dEVYdFNvZnR3YXJlAENyZWF0ZWQgd2l0aCB0aGUgV29sZnJhbSBMYW5ndWFnZSA6IHd3dy53b2xmcmFtLmNvbVyipoUAAAAhdEVYdENyZWF0aW9uIFRpbWUAMjAyMTowNDoyMCAxMjo1OTo1ObnU9e8AAADGSURBVDiN5ZMhEoMwEEX/dnqUconmBImqqq0LEkwdN6hJJHG1qCpygnICBgG5SyoInYmAKVNMp19lfnbe5u9syHuPrbXbnPhbUKcZxWLafUv1QbWErP02mo1vU0r1O0VqJ8+O106z6BzVLc3UVLiHFOZh57snXTHFhWDaLUJlkR0AALz0JZ8pcn0LI8JDhQEA7BegH2nomqManqH9qLUr1fYOgNOXvBkNfpJNfouHswrKrwp5QkRJdVZyMstBtSLaR/rvv/8CrnuckB3i8l4AAAAASUVORK5CYII=\"></div></div></div>"
      ],
      "text/plain": [
       "-1 + x\n",
       "-1 + x\n",
       "True"
      ]
     },
     "execution_count": 56,
     "metadata": {
      "text/html": [],
      "text/plain": []
     },
     "output_type": "execute_result"
    }
   ],
   "source": [
    "mygcd\n",
    "wolframgcd\n",
    "mygcd == wolframgcd"
   ]
  }
 ],
 "metadata": {
  "kernelspec": {
   "display_name": "Wolfram Language 12.2",
   "language": "Wolfram Language",
   "name": "wolframlanguage12.2"
  },
  "language_info": {
   "codemirror_mode": "mathematica",
   "file_extension": ".m",
   "mimetype": "application/vnd.wolfram.m",
   "name": "Wolfram Language",
   "pygments_lexer": "mathematica",
   "version": "12.0"
  }
 },
 "nbformat": 4,
 "nbformat_minor": 4
}
