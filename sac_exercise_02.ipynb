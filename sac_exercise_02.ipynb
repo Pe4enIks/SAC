{
 "cells": [
  {
   "cell_type": "code",
   "execution_count": 1,
   "metadata": {},
   "outputs": [
    {
     "data": {
      "text/html": [
       "<h1 style='color: green'>Задание 1 вариант А</h1>"
      ],
      "text/plain": [
       "<h1 style='color: green'>Задание 1 вариант А</h1>"
      ]
     },
     "execution_count": 1,
     "metadata": {},
     "output_type": "execute_result"
    }
   ],
   "source": [
    "html(\"<h1 style='color: green'>Задание 1 вариант А</h1>\")"
   ]
  },
  {
   "cell_type": "code",
   "execution_count": 2,
   "metadata": {},
   "outputs": [],
   "source": [
    "#функция вычисляющая методом дихотомии точку пересечения с Ox\n",
    "def dichotomy(fun, a, b, eps=1e-5):\n",
    "    if fun(x=a)*fun(x=b) > 0:\n",
    "        return None\n",
    "    median = (a+b)/2.0\n",
    "    if abs(fun(x=median).n()) < eps:\n",
    "        return median\n",
    "    if fun(x=median)*fun(x=a) < 0:\n",
    "        return dichotomy(fun, a, median)\n",
    "    else:\n",
    "        return dichotomy(fun, median, b)"
   ]
  },
  {
   "cell_type": "code",
   "execution_count": 3,
   "metadata": {},
   "outputs": [],
   "source": [
    "#функция вычисляющая методом Ньютона точку пересечения с Ox\n",
    "def newton(fun, a, b, eps=1e-5):\n",
    "    x1 = a\n",
    "    x2 = (a + b) / 2\n",
    "    df = fun.derivative()\n",
    "    while abs(x2 - x1) >= eps:\n",
    "        x1 = x2\n",
    "        x2 = x1 - fun(x=x1)/df(x=x1)\n",
    "    if abs(fun(x=x1)) <= 1e-3:\n",
    "        return x1\n",
    "    else:\n",
    "        return None"
   ]
  },
  {
   "cell_type": "code",
   "execution_count": 4,
   "metadata": {},
   "outputs": [],
   "source": [
    "#значения которые будут доступны для интерактивного взаимодействия\n",
    "a = (0, 2, 0.5)\n",
    "b = (0, 2, 0.5)\n",
    "step = (1, 2, 1)"
   ]
  },
  {
   "cell_type": "code",
   "execution_count": 5,
   "metadata": {},
   "outputs": [
    {
     "data": {
      "application/vnd.jupyter.widget-view+json": {
       "model_id": "2b63ae4a58084146a195783450c594fc",
       "version_major": 2,
       "version_minor": 0
      },
      "text/plain": [
       "Interactive function <function funcs_interact at 0x6ffed4f795f0> with 3 widgets\n",
       "  a: FloatSlider(value=1.0, de…"
      ]
     },
     "metadata": {},
     "output_type": "display_data"
    }
   ],
   "source": [
    "#декоратор для интерактивного взаимодействия, включающий вызов функций из пред. шагов\n",
    "@interact\n",
    "def funcs_interact(a=a, b=b, step=step):\n",
    "    #некоторые нужные константы\n",
    "    xmin = -2\n",
    "    xmax = 8\n",
    "    ymin = -5\n",
    "    ymax = 7\n",
    "    eps = 1e-5\n",
    "    \n",
    "    #сама функция\n",
    "    f(x) = x^3 - 9*x^2 + 23*x - 15\n",
    "    \n",
    "    #значения корней полученных методом дихотомии\n",
    "    dich = [dichotomy(f, a, b, eps)]\n",
    "    dich.append(dichotomy(f, a+step, b+step, eps))\n",
    "    dich.append(dichotomy(f, a+2*step, b+2*step, eps))\n",
    "    \n",
    "    #значения корней полученных методом Ньютона\n",
    "    newt = [newton(f, a, b, eps)]\n",
    "    newt.append(newton(f, a+step, b+step, eps))\n",
    "    newt.append(newton(f, a+2*step, b+2*step, eps))\n",
    "    \n",
    "    \n",
    "    #первые три графика методом дихотомии\n",
    "    gr = [plot(f, (x, xmin, xmax), ymin=ymin, ymax=ymax, aspect_ratio=1, figsize=[3,2], color='green')]*3\n",
    "    gr.extend([plot(f, (x, xmin, xmax), ymin=ymin, ymax=ymax, aspect_ratio=1, figsize=[3,2], color='blue')]*3)\n",
    "    for i in range(len(gr)):\n",
    "        if i <= 2 and dich[i] is not None:\n",
    "            gr[i] += point((float(dich[i]), 0), color='red', aspect_ratio=1, size=30)\n",
    "        if i > 2 and newt[i-3] is not None:\n",
    "            gr[i] += point((float(newt[i-3]), 0), color='red', aspect_ratio=1, size=30)\n",
    "    \n",
    "    #вывод массива графиков на один холст\n",
    "    graphics_array([[gr[0], gr[1], gr[2]], [gr[3], gr[4], gr[5]]]).show(frame=True)\n",
    "    \n",
    "    #Печать на экран значений корней\n",
    "    my_str = \"Корни полученные методом дихотомии: \"\n",
    "    for d in dich:\n",
    "        if d is not None:\n",
    "            my_str += \"{0:.1}\".format(d) + \" \"\n",
    "    my_str += \"\\nКорни полученные методом Ньютона: \"\n",
    "    for n in newt:\n",
    "        if n is not None:\n",
    "            my_str += str(round(float(n))) + \" \"\n",
    "    print(my_str)"
   ]
  },
  {
   "cell_type": "code",
   "execution_count": 6,
   "metadata": {},
   "outputs": [
    {
     "data": {
      "text/plain": [
       "[x == 1, x == 5, x == 3]"
      ]
     },
     "execution_count": 6,
     "metadata": {},
     "output_type": "execute_result"
    }
   ],
   "source": [
    "#результат полученный функцией solve\n",
    "f(x) = x^3 - 9*x^2 + 23*x - 15\n",
    "solve([f(x) == 0], x)"
   ]
  },
  {
   "cell_type": "markdown",
   "metadata": {},
   "source": [
    "**Как можно заметить результат полученный методом дихотомии и Ньютона совпадает с результатом solve для каждого корня при правильном выборе границ a, b и шага step**"
   ]
  },
  {
   "cell_type": "code",
   "execution_count": 7,
   "metadata": {},
   "outputs": [
    {
     "data": {
      "text/html": [
       "<h1 style='color: green'>Задание 2 вариант 4</h1>"
      ],
      "text/plain": [
       "<h1 style='color: green'>Задание 2 вариант 4</h1>"
      ]
     },
     "execution_count": 7,
     "metadata": {},
     "output_type": "execute_result"
    }
   ],
   "source": [
    "html(\"<h1 style='color: green'>Задание 2 вариант 4</h1>\")"
   ]
  },
  {
   "cell_type": "code",
   "execution_count": 8,
   "metadata": {},
   "outputs": [
    {
     "name": "stdout",
     "output_type": "stream",
     "text": [
      "НОД = 5*x^2 - 11*x + 1\n"
     ]
    }
   ],
   "source": [
    "#полученный НОД при помощи стандартной функции gcd\n",
    "R, (x, y) = PolynomialRing(QQ,'x, y').objgens()\n",
    "f = 5*x^5 - 21*x^4 + 23*x^3 - 37*x^2 + 77*x - 7\n",
    "g = 10*x^4 - 42*x^3 + 56*x^2 - 26*x + 2\n",
    "res_gcd = gcd(f, g)\n",
    "print(\"НОД =\", str(res_gcd))"
   ]
  },
  {
   "cell_type": "code",
   "execution_count": 9,
   "metadata": {},
   "outputs": [],
   "source": [
    "#функция вычисления коэффициентов тождества Безу и gcd(a,b)\n",
    "def bezout(a, b):\n",
    "    x, xx, y, yy = 1, 0, 0, 1\n",
    "    while b:\n",
    "        q, r = a // b, a % b\n",
    "        a = b\n",
    "        b = r\n",
    "        x, xx = xx, x - xx*q\n",
    "        y, yy = yy, y - yy*q\n",
    "    return (x, y, a)"
   ]
  },
  {
   "cell_type": "code",
   "execution_count": 10,
   "metadata": {},
   "outputs": [],
   "source": [
    "#получаем результат в виде tuple трех элементов u, v, gcd(a,b)\n",
    "bez = bezout(f, g)"
   ]
  },
  {
   "cell_type": "code",
   "execution_count": 11,
   "metadata": {},
   "outputs": [
    {
     "name": "stdout",
     "output_type": "stream",
     "text": [
      "НОД = 640*x^2 - 1408*x + 128\n"
     ]
    }
   ],
   "source": [
    "#полученный gcd(a, b) - левая часть тождества\n",
    "print(\"НОД =\", f*bez[0]+bez[1]*g)"
   ]
  },
  {
   "cell_type": "code",
   "execution_count": 12,
   "metadata": {},
   "outputs": [
    {
     "name": "stdout",
     "output_type": "stream",
     "text": [
      "НОД = 640*x^2 - 1408*x + 128\n"
     ]
    }
   ],
   "source": [
    "#полученный gcd(a,b) - правая часть тождества\n",
    "print(\"НОД =\", bez[2])"
   ]
  },
  {
   "cell_type": "code",
   "execution_count": 13,
   "metadata": {},
   "outputs": [
    {
     "name": "stdout",
     "output_type": "stream",
     "text": [
      "Получено верное тождество\n"
     ]
    }
   ],
   "source": [
    "#проверка тождества Безу f*u + v*g = gcd(f, g)\n",
    "if (f*bez[0]+bez[1]*g) - bez[2] == 0:\n",
    "    print(\"Получено верное тождество\")\n",
    "else:\n",
    "    print(\"Получено неверное тождество\")"
   ]
  },
  {
   "cell_type": "markdown",
   "metadata": {},
   "source": [
    "**Полученный gcd при помощи тождества Безу равен gcd полученному при помощи функции gcd, умноженному на константу C=128**"
   ]
  }
 ],
 "metadata": {
  "kernelspec": {
   "display_name": "SageMath 9.2",
   "language": "sage",
   "name": "sagemath"
  },
  "language_info": {
   "codemirror_mode": {
    "name": "ipython",
    "version": 3
   },
   "file_extension": ".py",
   "mimetype": "text/x-python",
   "name": "python",
   "nbconvert_exporter": "python",
   "pygments_lexer": "ipython3",
   "version": "3.7.7"
  }
 },
 "nbformat": 4,
 "nbformat_minor": 4
}
